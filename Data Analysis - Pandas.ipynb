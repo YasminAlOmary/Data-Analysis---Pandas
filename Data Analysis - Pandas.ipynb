{
 "cells": [
  {
   "cell_type": "markdown",
   "id": "ff1f4aea-99be-4ceb-8194-c3affed0218c",
   "metadata": {},
   "source": [
    "# Data Analysis"
   ]
  },
  {
   "cell_type": "markdown",
   "id": "a718b359-b05a-483d-aae1-999d595e4429",
   "metadata": {},
   "source": [
    "## Pandas DataFrame Analysis  "
   ]
  },
  {
   "cell_type": "markdown",
   "id": "c8699144-509e-4cb4-8939-2ef09e218eef",
   "metadata": {},
   "source": [
    "## Pandas head()"
   ]
  },
  {
   "cell_type": "code",
   "execution_count": 4,
   "id": "6ce72634-d459-424c-8991-585e252b4ea6",
   "metadata": {},
   "outputs": [
    {
     "name": "stdout",
     "output_type": "stream",
     "text": [
      "First Three Rows:\n",
      "    Name  Age      City\n",
      "0   John   25  New York\n",
      "1  Alice   30     Paris\n",
      "2    Bob   35    London\n",
      "\n",
      "First Five Rows:\n",
      "    Name  Age      City\n",
      "0   John   25  New York\n",
      "1  Alice   30     Paris\n",
      "2    Bob   35    London\n",
      "3   Emma   28    Sydney\n",
      "4   Mike   32     Tokyo\n"
     ]
    }
   ],
   "source": [
    "import pandas as pd\n",
    "\n",
    "# create a dataframe\n",
    "data = {'Name': ['John', 'Alice', 'Bob', 'Emma', 'Mike', 'Sarah', 'David', 'Linda', 'Tom', 'Emily'],\n",
    "        'Age': [25, 30, 35, 28, 32, 27, 40, 33, 29, 31],\n",
    "        'City': ['New York', 'Paris', 'London', 'Sydney', 'Tokyo', 'Berlin', 'Rome', 'Madrid', 'Toronto', 'Moscow']}\n",
    "df = pd.DataFrame(data)\n",
    "\n",
    "# display the first three rows\n",
    "print('First Three Rows:')\n",
    "print(df.head(3))\n",
    "print()\n",
    "\n",
    "# display the first five rows\n",
    "print('First Five Rows:')\n",
    "print(df.head())"
   ]
  },
  {
   "cell_type": "markdown",
   "id": "d70c9bf1-44df-4630-9b5a-c762f416509e",
   "metadata": {},
   "source": [
    "## Pandas tail()"
   ]
  },
  {
   "cell_type": "code",
   "execution_count": 7,
   "id": "87627c61-b342-4e75-b2ed-4d43bb9b582f",
   "metadata": {},
   "outputs": [
    {
     "name": "stdout",
     "output_type": "stream",
     "text": [
      "Last Three Rows:\n",
      "    Name  Age     City\n",
      "7  Linda   33   Madrid\n",
      "8    Tom   29  Toronto\n",
      "9  Emily   31   Moscow\n",
      "\n",
      "Last Five Rows:\n",
      "    Name  Age     City\n",
      "5  Sarah   27   Berlin\n",
      "6  David   40     Rome\n",
      "7  Linda   33   Madrid\n",
      "8    Tom   29  Toronto\n",
      "9  Emily   31   Moscow\n"
     ]
    }
   ],
   "source": [
    "import pandas as pd\n",
    "\n",
    "# create a dataframe\n",
    "data = {'Name': ['John', 'Alice', 'Bob', 'Emma', 'Mike', 'Sarah', 'David', 'Linda', 'Tom', 'Emily'],\n",
    "        'Age': [25, 30, 35, 28, 32, 27, 40, 33, 29, 31],\n",
    "        'City': ['New York', 'Paris', 'London', 'Sydney', 'Tokyo', 'Berlin', 'Rome', 'Madrid', 'Toronto', 'Moscow']}\n",
    "\n",
    "df = pd.DataFrame(data)\n",
    "\n",
    "# display the last three rows\n",
    "print('Last Three Rows:')\n",
    "print(df.tail(3))\n",
    "print()\n",
    "\n",
    "# display the last five rows\n",
    "print('Last Five Rows:')\n",
    "print(df.tail())"
   ]
  },
  {
   "cell_type": "markdown",
   "id": "51c2d79a-961f-4be5-a96b-413e8c549a20",
   "metadata": {},
   "source": [
    "## DataFrame Information "
   ]
  },
  {
   "cell_type": "code",
   "execution_count": 10,
   "id": "55664d64-fa6f-4ae7-b870-ce27c903271b",
   "metadata": {},
   "outputs": [
    {
     "name": "stdout",
     "output_type": "stream",
     "text": [
      "<class 'pandas.core.frame.DataFrame'>\n",
      "RangeIndex: 10 entries, 0 to 9\n",
      "Data columns (total 3 columns):\n",
      " #   Column  Non-Null Count  Dtype \n",
      "---  ------  --------------  ----- \n",
      " 0   Name    10 non-null     object\n",
      " 1   Age     10 non-null     int64 \n",
      " 2   City    10 non-null     object\n",
      "dtypes: int64(1), object(2)\n",
      "memory usage: 372.0+ bytes\n"
     ]
    }
   ],
   "source": [
    "import pandas as pd\n",
    "\n",
    "# create dataframe\n",
    "data = {'Name': ['John', 'Alice', 'Bob', 'Emma', 'Mike', 'Sarah', 'David', 'Linda', 'Tom', 'Emily'],\n",
    "        'Age': [25, 30, 35, 28, 32, 27, 40, 33, 29, 31],\n",
    "        'City': ['New York', 'Paris', 'London', 'Sydney', 'Tokyo', 'Berlin', 'Rome', 'Madrid', 'Toronto', 'Moscow']}\n",
    "df = pd.DataFrame(data)\n",
    "\n",
    "# get info about dataframe\n",
    "df.info()"
   ]
  },
  {
   "cell_type": "markdown",
   "id": "05f8a15e-68e5-48cd-a067-06687056d0b0",
   "metadata": {},
   "source": [
    "## DataFrame Manipulation  "
   ]
  },
  {
   "cell_type": "markdown",
   "id": "51b95e7a-5859-4369-80ba-f77d450169d0",
   "metadata": {},
   "source": [
    "## Add a New Column to a Pandas DataFrame "
   ]
  },
  {
   "cell_type": "code",
   "execution_count": 14,
   "id": "42259e94-9b20-434c-abef-4bf50e0521c0",
   "metadata": {},
   "outputs": [
    {
     "name": "stdout",
     "output_type": "stream",
     "text": [
      "      Name  Height Qualification   Address\n",
      "0     John     5.5           BSc  New York\n",
      "1     Emma     6.0           BBA    London\n",
      "2  Michael     5.8           MBA    Sydney\n",
      "3   Sophia     5.3           BSc   Toronto\n"
     ]
    }
   ],
   "source": [
    "import pandas as pd\n",
    "\n",
    "# define a dictionary containing student data\n",
    "data = {'Name': ['John', 'Emma', 'Michael', 'Sophia'],\n",
    "        'Height': [5.5, 6.0, 5.8, 5.3],\n",
    "        'Qualification': ['BSc', 'BBA', 'MBA', 'BSc']}\n",
    "\n",
    "# convert the dictionary into a DataFrame\n",
    "df = pd.DataFrame(data)\n",
    "\n",
    "# declare a new list\n",
    "address = ['New York', 'London', 'Sydney', 'Toronto']\n",
    "\n",
    "# assign the list as a column\n",
    "df['Address'] = address\n",
    "\n",
    "print(df)"
   ]
  },
  {
   "cell_type": "markdown",
   "id": "47140db0-3d92-46c1-bc94-84cfad27779f",
   "metadata": {},
   "source": [
    "## Add a New Row to a Pandas DataFrame "
   ]
  },
  {
   "cell_type": "code",
   "execution_count": 17,
   "id": "563cc230-d004-4d8e-b59e-207e43110fef",
   "metadata": {},
   "outputs": [
    {
     "name": "stdout",
     "output_type": "stream",
     "text": [
      "Original DataFrame:\n",
      "      Name  Height Qualification\n",
      "0     John     5.5           BSc\n",
      "1     Emma     6.0           BBA\n",
      "2  Michael     5.8           MBA\n",
      "3   Sophia     5.3           BSc\n",
      "\n",
      "Modified DataFrame:\n",
      "      Name  Height Qualification\n",
      "0     John     5.5           BSc\n",
      "1     Emma     6.0           BBA\n",
      "2  Michael     5.8           MBA\n",
      "3   Sophia     5.3           BSc\n",
      "4      Amy     5.2           BIT\n"
     ]
    }
   ],
   "source": [
    "import pandas as pd\n",
    "\n",
    "# define a dictionary containing student data\n",
    "data = {'Name': ['John', 'Emma', 'Michael', 'Sophia'],\n",
    "        'Height': [5.5, 6.0, 5.8, 5.3],\n",
    "        'Qualification': ['BSc', 'BBA', 'MBA', 'BSc']}\n",
    "\n",
    "# convert the dictionary into a DataFrame\n",
    "df = pd.DataFrame(data)\n",
    "\n",
    "print(\"Original DataFrame:\")\n",
    "print(df)\n",
    "print()\n",
    "\n",
    "# add a new row\n",
    "df.loc[len(df.index)] = ['Amy', 5.2, 'BIT'] \n",
    "\n",
    "print(\"Modified DataFrame:\")\n",
    "print(df)"
   ]
  },
  {
   "cell_type": "markdown",
   "id": "e22e53ad-a572-4b53-9e9b-c5c93021a027",
   "metadata": {},
   "source": [
    "## Remove Rows/Columns from a Pandas DataFrame"
   ]
  },
  {
   "cell_type": "markdown",
   "id": "0f06c429-0a2f-4762-a3ea-dd120ba585a9",
   "metadata": {},
   "source": [
    "Delete Rows"
   ]
  },
  {
   "cell_type": "code",
   "execution_count": 31,
   "id": "06d8f8f8-4c31-480c-a504-063cc30afc79",
   "metadata": {},
   "outputs": [
    {
     "name": "stdout",
     "output_type": "stream",
     "text": [
      "Original DataFrame:\n",
      "      Name  Age      City\n",
      "0    Alice   25  New York\n",
      "1      Bob   30    London\n",
      "2  Charlie   35     Paris\n",
      "3    David   40     Tokyo\n",
      "4   Felipe   22    Bogota\n",
      "5     Rita   29  Banglore\n",
      "\n",
      "Modified DataFrame:\n",
      "      Name  Age      City\n",
      "0    Alice   25  New York\n",
      "2  Charlie   35     Paris\n"
     ]
    }
   ],
   "source": [
    "\n",
    "\n",
    "import pandas as pd\n",
    "\n",
    "# create a sample DataFrame\n",
    "data = {'Name': ['Alice', 'Bob', 'Charlie', 'David', 'Felipe', 'Rita'],\n",
    "        'Age': [25, 30, 35, 40, 22, 29],\n",
    "        'City': ['New York', 'London', 'Paris', 'Tokyo', 'Bogota', 'Banglore']}\n",
    "df = pd.DataFrame(data)\n",
    "\n",
    "# display the original DataFrame\n",
    "print(\"Original DataFrame:\")\n",
    "print(df)\n",
    "print()\n",
    "\n",
    "# delete row with index 4\n",
    "df.drop(4, axis=0, inplace=True)\n",
    "\n",
    "# delete row with index 5\n",
    "df.drop(index=5, inplace=True)\n",
    "\n",
    "# delete rows with index 1 and 3\n",
    "df.drop([1, 3], axis=0, inplace=True)\n",
    "\n",
    "# display the modified DataFrame after deleting rows\n",
    "print(\"Modified DataFrame:\")\n",
    "print(df)"
   ]
  },
  {
   "cell_type": "markdown",
   "id": "0830c23b-a524-4e6a-b981-5d0691ff0955",
   "metadata": {},
   "source": [
    "Delete columns"
   ]
  },
  {
   "cell_type": "code",
   "execution_count": 33,
   "id": "d4a328b6-9007-42b8-be54-c8fb0cc94a95",
   "metadata": {},
   "outputs": [
    {
     "name": "stdout",
     "output_type": "stream",
     "text": [
      "Original DataFrame:\n",
      "      Name  Age      City Height    Profession Marital Status\n",
      "0    Alice   25  New York    165      Engineer         Single\n",
      "1      Bob   30    London    178  Entrepreneur        Married\n",
      "2  Charlie   35     Paris    185    Unemployed       Divorced\n",
      "3    David   40     Tokyo    171         Actor        Engaged\n",
      "\n",
      "Modified DataFrame:\n",
      "      Name      City\n",
      "0    Alice  New York\n",
      "1      Bob    London\n",
      "2  Charlie     Paris\n",
      "3    David     Tokyo\n"
     ]
    }
   ],
   "source": [
    "import pandas as pd\n",
    "\n",
    "# create a sample DataFrame\n",
    "data = {'Name': ['Alice', 'Bob', 'Charlie', 'David'],\n",
    "        'Age': [25, 30, 35, 40],\n",
    "        'City': ['New York', 'London', 'Paris', 'Tokyo'],\n",
    "        'Height': ['165', '178', '185', '171'],\n",
    "        'Profession': ['Engineer', 'Entrepreneur', 'Unemployed', 'Actor'],\n",
    "        'Marital Status': ['Single', 'Married', 'Divorced', 'Engaged']}\n",
    "df = pd.DataFrame(data)\n",
    "\n",
    "# display the original DataFrame\n",
    "print(\"Original DataFrame:\")\n",
    "print(df)\n",
    "print()\n",
    "\n",
    "# delete age column\n",
    "df.drop('Age', axis=1, inplace=True)\n",
    "\n",
    "# delete marital status column\n",
    "df.drop(columns='Marital Status', inplace=True)\n",
    "\n",
    "# delete height and profession columns\n",
    "df.drop(['Height', 'Profession'], axis=1, inplace=True)\n",
    "\n",
    "# display the modified DataFrame after deleting rows\n",
    "print(\"Modified DataFrame:\")\n",
    "print(df)"
   ]
  },
  {
   "cell_type": "markdown",
   "id": "313a76cf-219a-433c-bdd0-4869ea857b55",
   "metadata": {},
   "source": [
    "## Rename Labels in a DataFrame"
   ]
  },
  {
   "cell_type": "code",
   "execution_count": 36,
   "id": "833b72f7-1af7-4ced-8153-6bcaff60b26f",
   "metadata": {},
   "outputs": [
    {
     "name": "stdout",
     "output_type": "stream",
     "text": [
      "Original DataFrame:\n",
      "      Name  Age      City\n",
      "0    Alice   25  New York\n",
      "1      Bob   30    London\n",
      "2  Charlie   35     Paris\n",
      "3    David   40     Tokyo\n",
      "\n",
      "Modified DataFrame:\n",
      "  First_Name  Number   Address\n",
      "0      Alice      25  New York\n",
      "1        Bob      30    London\n",
      "2    Charlie      35     Paris\n",
      "3      David      40     Tokyo\n"
     ]
    }
   ],
   "source": [
    "import pandas as pd\n",
    "\n",
    "# create a sample DataFrame\n",
    "data = {'Name': ['Alice', 'Bob', 'Charlie', 'David'],\n",
    "        'Age': [25, 30, 35, 40],\n",
    "        'City': ['New York', 'London', 'Paris', 'Tokyo']}\n",
    "df = pd.DataFrame(data)\n",
    "\n",
    "# display the original DataFrame\n",
    "print(\"Original DataFrame:\")\n",
    "print(df)\n",
    "print()\n",
    "\n",
    "# rename column 'Name' to 'First_Name'\n",
    "df.rename(columns= {'Name': 'First_Name'}, inplace=True)\n",
    "\n",
    "# rename columns 'Age' and 'City'\n",
    "df.rename(mapper= {'Age': 'Number', 'City':'Address'}, axis=1, inplace=True)\n",
    "\n",
    "# display the DataFrame after renaming column\n",
    "print(\"Modified DataFrame:\")\n",
    "print(df)"
   ]
  },
  {
   "cell_type": "markdown",
   "id": "dca497e0-8565-43f5-b008-92efd9958e91",
   "metadata": {},
   "source": [
    "## Rename Row Labels"
   ]
  },
  {
   "cell_type": "code",
   "execution_count": 39,
   "id": "4e3493b4-76e5-452f-a38e-9b13290b5167",
   "metadata": {},
   "outputs": [
    {
     "name": "stdout",
     "output_type": "stream",
     "text": [
      "Original DataFrame:\n",
      "      Name  Age      City\n",
      "0    Alice   25  New York\n",
      "1      Bob   30    London\n",
      "2  Charlie   35     Paris\n",
      "3    David   40     Tokyo\n",
      "\n",
      "Modified DataFrame:\n",
      "        Name  Age      City\n",
      "7      Alice   25  New York\n",
      "10       Bob   30    London\n",
      "100  Charlie   35     Paris\n",
      "3      David   40     Tokyo\n"
     ]
    }
   ],
   "source": [
    "import pandas as pd\n",
    "\n",
    "# create a sample DataFrame\n",
    "data = {'Name': ['Alice', 'Bob', 'Charlie', 'David'],\n",
    "        'Age': [25, 30, 35, 40],\n",
    "        'City': ['New York', 'London', 'Paris', 'Tokyo']}\n",
    "df = pd.DataFrame(data)\n",
    "\n",
    "# display the original DataFrame\n",
    "print(\"Original DataFrame:\")\n",
    "print(df)\n",
    "print()\n",
    "\n",
    "# rename column one index label\n",
    "df.rename(index={0: 7}, inplace=True)\n",
    "\n",
    "# rename columns multiple index labels\n",
    "df.rename(mapper={1: 10, 2: 100}, axis=0, inplace=True)\n",
    "\n",
    "# display the DataFrame after renaming column\n",
    "print(\"Modified DataFrame:\")\n",
    "print(df)"
   ]
  },
  {
   "cell_type": "markdown",
   "id": "5fb66b7b-250a-41a6-83a2-7475e32886e2",
   "metadata": {},
   "source": [
    "## Indexing and Slicing"
   ]
  },
  {
   "cell_type": "markdown",
   "id": "f915051d-c4ef-4826-b75e-9a6b860f4b2c",
   "metadata": {},
   "source": [
    "## Access Columns of a DataFrame"
   ]
  },
  {
   "cell_type": "code",
   "execution_count": 44,
   "id": "5e7088fd-ff88-4c3e-b53a-f6c0aa6f47a5",
   "metadata": {},
   "outputs": [
    {
     "name": "stdout",
     "output_type": "stream",
     "text": [
      "0      Alice\n",
      "1        Bob\n",
      "2    Charlie\n",
      "3      David\n",
      "4        Eve\n",
      "Name: Name, dtype: object\n"
     ]
    }
   ],
   "source": [
    "import pandas as pd\n",
    "\n",
    "# create a DataFrame\n",
    "data = {\n",
    "    'Name': ['Alice', 'Bob', 'Charlie', 'David', 'Eve'],\n",
    "    'Age': [25, 32, 18, 47, 33],\n",
    "    'City': ['New York', 'Paris', 'London', 'Tokyo', 'Sydney']\n",
    "}\n",
    "df = pd.DataFrame(data)\n",
    "\n",
    "# access the Name column\n",
    "names = df['Name']\n",
    "\n",
    "print(names)"
   ]
  },
  {
   "cell_type": "markdown",
   "id": "2f16c985-ba7a-4878-b00b-85689990c2e5",
   "metadata": {},
   "source": [
    "Access multiple columns using the [] operator."
   ]
  },
  {
   "cell_type": "code",
   "execution_count": 48,
   "id": "c78dab39-d526-4cf6-a48e-c71ce7577824",
   "metadata": {},
   "outputs": [
    {
     "name": "stdout",
     "output_type": "stream",
     "text": [
      "      Name      City\n",
      "0    Alice  New York\n",
      "1      Bob     Paris\n",
      "2  Charlie    London\n",
      "3    David     Tokyo\n",
      "4      Eve    Sydney\n"
     ]
    }
   ],
   "source": [
    "import pandas as pd\n",
    "\n",
    "# create a DataFrame\n",
    "data = {\n",
    "    'Name': ['Alice', 'Bob', 'Charlie', 'David', 'Eve'],\n",
    "    'Age': [25, 32, 18, 47, 33],\n",
    "    'City': ['New York', 'Paris', 'London', 'Tokyo', 'Sydney']\n",
    "}\n",
    "df = pd.DataFrame(data)\n",
    "\n",
    "# access multiple columns\n",
    "name_city = df[['Name','City']]\n",
    "\n",
    "print(name_city)"
   ]
  },
  {
   "cell_type": "markdown",
   "id": "dfc447c5-f1ce-4a82-8ae3-bc950b625725",
   "metadata": {},
   "source": [
    "## Pandas .loc"
   ]
  },
  {
   "cell_type": "markdown",
   "id": "7640b50a-2b92-4c9f-bc88-be289f92d2f8",
   "metadata": {},
   "source": [
    "Use .loc to access the data from a dataframe using its indexes."
   ]
  },
  {
   "cell_type": "code",
   "execution_count": 52,
   "id": "a4dea8f0-db8d-4861-bda3-b17242a7189e",
   "metadata": {},
   "outputs": [
    {
     "name": "stdout",
     "output_type": "stream",
     "text": [
      "Single row:\n",
      "Name    Charlie\n",
      "Age          18\n",
      "City     London\n",
      "Name: 2, dtype: object\n",
      "\n",
      "List of Rows:\n",
      "    Name  Age      City\n",
      "0  Alice   25  New York\n",
      "3  David   47     Tokyo\n",
      "4    Eve   33    Sydney\n",
      "\n",
      "List of Columns:\n",
      "      Name  Age\n",
      "0    Alice   25\n",
      "1      Bob   32\n",
      "2  Charlie   18\n",
      "3    David   47\n",
      "4      Eve   33\n",
      "\n",
      "Specific Value:\n",
      "Bob\n"
     ]
    }
   ],
   "source": [
    "import pandas as pd\n",
    "\n",
    "# create a DataFrame\n",
    "data = {\n",
    "    'Name': ['Alice', 'Bob', 'Charlie', 'David', 'Eve'],\n",
    "    'Age': [25, 32, 18, 47, 33],\n",
    "    'City': ['New York', 'Paris', 'London', 'Tokyo', 'Sydney']\n",
    "}\n",
    "df = pd.DataFrame(data)\n",
    "\n",
    "# access a single row\n",
    "single_row = df.loc[2]\n",
    "\n",
    "print(\"Single row:\")\n",
    "print(single_row)\n",
    "print()\n",
    "\n",
    "# access rows 0, 3 and 4\n",
    "row_list = df.loc[[0, 3, 4]]\n",
    "\n",
    "print(\"List of Rows:\")\n",
    "print(row_list)\n",
    "print()\n",
    "\n",
    "# access a list of columns\n",
    "column_list = df.loc[:,['Name', 'Age']]\n",
    "\n",
    "print(\"List of Columns:\")\n",
    "print(column_list)\n",
    "print()\n",
    "\n",
    "# access second row of 'Name' column\n",
    "specific_value = df.loc[1, 'Name']\n",
    "\n",
    "print(\"Specific Value:\")\n",
    "print(specific_value)"
   ]
  },
  {
   "cell_type": "markdown",
   "id": "c6d1f82a-8a6b-48fc-b209-f1ee6da10f4d",
   "metadata": {},
   "source": [
    "Slicing Using .loc"
   ]
  },
  {
   "cell_type": "code",
   "execution_count": 55,
   "id": "b2dc45af-f6a0-4d7d-a28c-d902a078ad68",
   "metadata": {},
   "outputs": [
    {
     "name": "stdout",
     "output_type": "stream",
     "text": [
      "Sliced Rows:\n",
      "      Name  Age    City\n",
      "1      Bob   32   Paris\n",
      "2  Charlie   18  London\n",
      "3    David   47   Tokyo\n",
      "\n",
      "Sliced Columns:\n",
      "      Name  Age\n",
      "0    Alice   25\n",
      "1      Bob   32\n",
      "2  Charlie   18\n",
      "3    David   47\n",
      "4      Eve   33\n"
     ]
    }
   ],
   "source": [
    "import pandas as pd\n",
    "\n",
    "# create a DataFrame\n",
    "data = {\n",
    "    'Name': ['Alice', 'Bob', 'Charlie', 'David', 'Eve'],\n",
    "    'Age': [25, 32, 18, 47, 33],\n",
    "    'City': ['New York', 'Paris', 'London', 'Tokyo', 'Sydney']\n",
    "}\n",
    "\n",
    "df = pd.DataFrame(data)\n",
    "\n",
    "# slice rows from index 1 to 3\n",
    "slice_rows = df.loc[1:3]\n",
    "\n",
    "print(\"Sliced Rows:\")\n",
    "print(slice_rows)\n",
    "print()\n",
    "\n",
    " # slicing columns from 'Name' to 'Age'\n",
    "slice_columns = df.loc[:, 'Name':'Age']\n",
    "\n",
    "print(\"Sliced Columns:\")\n",
    "print(slice_columns)"
   ]
  },
  {
   "cell_type": "markdown",
   "id": "f5d797f4-a002-4ffa-b9ed-09d990674398",
   "metadata": {},
   "source": [
    "We can use the boolean indexing to set conditions and filter the data."
   ]
  },
  {
   "cell_type": "code",
   "execution_count": 58,
   "id": "800d65f3-fab7-4869-96e8-8f2fc16bc669",
   "metadata": {},
   "outputs": [
    {
     "name": "stdout",
     "output_type": "stream",
     "text": [
      "Filtered DataFrame: \n",
      "    Name  Age    City\n",
      "1    Bob   32   Paris\n",
      "3  David   47   Tokyo\n",
      "4    Eve   33  Sydney\n"
     ]
    }
   ],
   "source": [
    "import pandas as pd\n",
    "\n",
    "# create a DataFrame\n",
    "data = {\n",
    "    'Name': ['Alice', 'Bob', 'Charlie', 'David', 'Eve'],\n",
    "    'Age': [25, 32, 18, 47, 33],\n",
    "    'City': ['New York', 'Paris', 'London', 'Tokyo', 'Sydney']\n",
    "}\n",
    "df = pd.DataFrame(data)\n",
    "\n",
    "# boolean indexing with .loc\n",
    "boolean_index = df.loc[df['Age'] > 30]\n",
    "\n",
    "print(\"Filtered DataFrame: \")\n",
    "print(boolean_index)"
   ]
  },
  {
   "cell_type": "markdown",
   "id": "77c85e99-881e-412e-9b42-7fb23a16750b",
   "metadata": {},
   "source": [
    "## Pandas .iloc"
   ]
  },
  {
   "cell_type": "code",
   "execution_count": 62,
   "id": "cc8e213b-a4a0-45a4-9cb8-d822bdc57e4e",
   "metadata": {},
   "outputs": [
    {
     "name": "stdout",
     "output_type": "stream",
     "text": [
      "Single Row:\n",
      "Name    Charlie\n",
      "Age          18\n",
      "City     London\n",
      "Name: 2, dtype: object\n",
      "\n",
      "List of Rows:\n",
      "    Name  Age      City\n",
      "0  Alice   25  New York\n",
      "3  David   47     Tokyo\n",
      "4    Eve   33    Sydney\n",
      "\n",
      "List of Columns:\n",
      "      Name      City\n",
      "0    Alice  New York\n",
      "1      Bob     Paris\n",
      "2  Charlie    London\n",
      "3    David     Tokyo\n",
      "4      Eve    Sydney\n",
      "\n",
      "Specific Value:\n",
      "Bob\n"
     ]
    }
   ],
   "source": [
    "import pandas as pd\n",
    "\n",
    "# create a DataFrame\n",
    "data = {\n",
    "    'Name': ['Alice', 'Bob', 'Charlie', 'David', 'Eve'],\n",
    "    'Age': [25, 32, 18, 47, 33],\n",
    "    'City': ['New York', 'Paris', 'London', 'Tokyo', 'Sydney']\n",
    "}\n",
    "df = pd.DataFrame(data)\n",
    "\n",
    "# access single row\n",
    "single_row = df.iloc[2]\n",
    "\n",
    "# access rows 0, 3 and 4\n",
    "row_list = df.iloc[[0, 3, 4]]\n",
    "\n",
    "# access columns 0 and 2\n",
    "column_list = df.iloc[:,[0,2]]\n",
    "\n",
    "# access a specific value\n",
    "specific_value = df.iloc[1, 0]\n",
    "\n",
    "# display result\n",
    "print(\"Single Row:\")\n",
    "print(single_row)\n",
    "print()\n",
    "print(\"List of Rows:\")\n",
    "print(row_list)\n",
    "print()\n",
    "print(\"List of Columns:\")\n",
    "print(column_list)\n",
    "print()\n",
    "print(\"Specific Value:\")\n",
    "print(specific_value)"
   ]
  },
  {
   "cell_type": "markdown",
   "id": "94879005-7a17-40aa-9860-b998fb3d4f9d",
   "metadata": {},
   "source": [
    "Slicing Using .iloc"
   ]
  },
  {
   "cell_type": "code",
   "execution_count": 65,
   "id": "077f7909-9372-4ad9-bd3f-584c24b918b7",
   "metadata": {},
   "outputs": [
    {
     "name": "stdout",
     "output_type": "stream",
     "text": [
      "Sliced Rows:\n",
      "      Name  Age    City\n",
      "1      Bob   32   Paris\n",
      "2  Charlie   18  London\n",
      "3    David   47   Tokyo\n",
      "\n",
      "Sliced Columns:\n",
      "      Name  Age\n",
      "0    Alice   25\n",
      "1      Bob   32\n",
      "2  Charlie   18\n",
      "3    David   47\n",
      "4      Eve   33\n"
     ]
    }
   ],
   "source": [
    "import pandas as pd\n",
    "\n",
    "# create a sample DataFrame\n",
    "data = {\n",
    "    'Name': ['Alice', 'Bob', 'Charlie', 'David', 'Eve'],\n",
    "    'Age': [25, 32, 18, 47, 33],\n",
    "    'City': ['New York', 'Paris', 'London', 'Tokyo', 'Sydney']\n",
    "}\n",
    "df = pd.DataFrame(data)\n",
    "\n",
    "# slice rows from position 1 to 3\n",
    "slice_rows = df.iloc[1:4]\n",
    "\n",
    "# slice columns from position 0 to 1\n",
    "slice_columns = df.iloc[:, 0:2]\n",
    "\n",
    "# display results\n",
    "print(\"Sliced Rows:\")\n",
    "print(slice_rows)\n",
    "print()\n",
    "print(\"Sliced Columns:\")\n",
    "print(slice_columns)"
   ]
  },
  {
   "cell_type": "markdown",
   "id": "5072cc62-d186-4df7-bea0-a4b160359661",
   "metadata": {},
   "source": [
    "## Pandas Select"
   ]
  },
  {
   "cell_type": "markdown",
   "id": "11f1115a-9060-4533-8e30-b03cfb5566f6",
   "metadata": {},
   "source": [
    "## Select Data Using Indexing and Slicing "
   ]
  },
  {
   "cell_type": "code",
   "execution_count": 69,
   "id": "b85c4e15-6931-41f4-bba4-48d647875322",
   "metadata": {},
   "outputs": [
    {
     "name": "stdout",
     "output_type": "stream",
     "text": [
      "Selecting single column: Name\n",
      "0      Alice\n",
      "1        Bob\n",
      "2    Charlie\n",
      "3      David\n",
      "4        Eve\n",
      "Name: Name, dtype: object\n",
      "\n",
      "Selecting multiple columns: Age and Salary\n",
      " Age  Salary\n",
      "  25   50000\n",
      "  30   60000\n",
      "  22   45000\n",
      "  27   55000\n",
      "  29   52000\n",
      "\n",
      "Selecting rows 1 to 3\n",
      "   Name  Age  Salary\n",
      "    Bob   30   60000\n",
      "Charlie   22   45000\n",
      "  David   27   55000\n",
      "\n"
     ]
    }
   ],
   "source": [
    "import pandas as pd\n",
    "\n",
    "# create a DataFrame\n",
    "data = {\n",
    "    'Name': ['Alice', 'Bob', 'Charlie', 'David', 'Eve'],\n",
    "    'Age': [25, 30, 22, 27, 29],\n",
    "    'Salary': [50000, 60000, 45000, 55000, 52000]\n",
    "}\n",
    "\n",
    "df = pd.DataFrame(data)\n",
    "\n",
    "# selecting a single column\n",
    "name_column = df['Name']\n",
    "\n",
    "print(\"Selecting single column: Name\")\n",
    "print(name_column)\n",
    "print()\n",
    "\n",
    "# selecting multiple columns\n",
    "age_salary_columns = df[['Age', 'Salary']]\n",
    "\n",
    "print(\"Selecting multiple columns: Age and Salary\")\n",
    "print(age_salary_columns.to_string(index=False))\n",
    "print()\n",
    "\n",
    "# selecting rows using slicing\n",
    "selected_rows = df[1:4]\n",
    "\n",
    "print(\"Selecting rows 1 to 3\")\n",
    "print(selected_rows.to_string(index=False))\n",
    "print()"
   ]
  },
  {
   "cell_type": "markdown",
   "id": "a0d0227c-ea12-4f6b-88e6-7d4645108399",
   "metadata": {},
   "source": [
    "## Using loc and iloc to Select Data "
   ]
  },
  {
   "cell_type": "code",
   "execution_count": 72,
   "id": "e8e866d0-a388-493f-8697-3be9c1fa863d",
   "metadata": {},
   "outputs": [
    {
     "name": "stdout",
     "output_type": "stream",
     "text": [
      "Original DataFrame \n",
      "       Name  Age           City\n",
      "0    Alice   25       New York\n",
      "1      Bob   30    Los Angeles\n",
      "2  Charlie   22        Chicago\n",
      "3    David   27        Houston\n",
      "4    Emily   29  San Francisco \n",
      "\n",
      "   Name  Age\n",
      "    Bob   30\n",
      "Charlie   22\n",
      "  David   27\n",
      "\n",
      "   Name        City\n",
      "    Bob Los Angeles\n",
      "Charlie     Chicago\n",
      "  David     Houston\n"
     ]
    }
   ],
   "source": [
    "import pandas as pd\n",
    "\n",
    "data = {\n",
    "    'Name': ['Alice', 'Bob', 'Charlie', 'David', 'Emily'],\n",
    "    'Age': [25, 30, 22, 27, 29],\n",
    "    'City': ['New York', 'Los Angeles', 'Chicago', 'Houston', 'San Francisco']\n",
    "}\n",
    "\n",
    "df = pd.DataFrame(data)\n",
    "print(f\"Original DataFrame \\n {df} \\n\") \n",
    "\n",
    "# loc to select rows and columns by labels\n",
    "# select rows 1 to 3 and columns Name and Age\n",
    "selected_data_loc = df.loc[1:3, ['Name', 'Age']]\n",
    "\n",
    "print(selected_data_loc.to_string(index = False))\n",
    "print() \n",
    "\n",
    "# iloc to select rows and columns by index\n",
    "# select rows 1 to 3 and columns 0 and 2 \n",
    "selected_data_iloc = df.iloc[1:4, [0, 2]]\n",
    "\n",
    "print(selected_data_iloc.to_string(index = False))"
   ]
  },
  {
   "cell_type": "markdown",
   "id": "9cda4ab7-7446-4ba6-8690-3c0f7fb4ffd7",
   "metadata": {},
   "source": [
    "## Select Rows Based on Specific Criteria "
   ]
  },
  {
   "cell_type": "code",
   "execution_count": 75,
   "id": "31750701-8e66-4613-8b4c-2d72999079b4",
   "metadata": {},
   "outputs": [
    {
     "name": "stdout",
     "output_type": "stream",
     "text": [
      "    Name  Age Gender\n",
      "1    Bob   30   Male\n",
      "3  David   28   Male\n"
     ]
    }
   ],
   "source": [
    "import pandas as pd\n",
    "\n",
    "# creating a DataFrame\n",
    "data = {\n",
    "    'Name': ['Alice', 'Bob', 'Charlie', 'David', 'Emily'],\n",
    "    'Age': [25, 30, 22, 28, 24],\n",
    "    'Gender': ['Female', 'Male', 'Male', 'Male', 'Female']\n",
    "}\n",
    "\n",
    "df = pd.DataFrame(data)\n",
    "\n",
    "# select rows where Age is greater than 25\n",
    "selected_rows = df[df['Age'] > 25]\n",
    "\n",
    "print(selected_rows)"
   ]
  },
  {
   "cell_type": "markdown",
   "id": "88e17f1c-bc58-47cb-a36f-4f8b9a20135c",
   "metadata": {},
   "source": [
    "## query() to Select Data "
   ]
  },
  {
   "cell_type": "code",
   "execution_count": 78,
   "id": "1b702252-8fa6-47b9-9eed-4e7341b471af",
   "metadata": {},
   "outputs": [
    {
     "name": "stdout",
     "output_type": "stream",
     "text": [
      " Name  Age  Score\n",
      "  Bob   30     90\n",
      "David   28     80\n",
      "  Eva   35     95\n"
     ]
    }
   ],
   "source": [
    "import pandas as pd\n",
    "\n",
    "data = {\n",
    "    'Name': ['Alice', 'Bob', 'Charlie', 'David', 'Eva'],\n",
    "    'Age': [25, 30, 22, 28, 35],\n",
    "    'Score': [85, 90, 75, 80, 95]\n",
    "}\n",
    "\n",
    "df = pd.DataFrame(data)\n",
    "\n",
    "# select the rows where the age is greater than 25\n",
    "selected_rows = df.query('Age > 25')\n",
    "\n",
    "print(selected_rows.to_string(index = False))"
   ]
  },
  {
   "cell_type": "markdown",
   "id": "404cac0f-668f-4647-a45b-2dbd5d8d385c",
   "metadata": {},
   "source": [
    "Select Rows Based on a List of Values"
   ]
  },
  {
   "cell_type": "code",
   "execution_count": 81,
   "id": "4e74cb0d-7a60-44ba-b19f-802f4096a033",
   "metadata": {},
   "outputs": [
    {
     "name": "stdout",
     "output_type": "stream",
     "text": [
      " Name  Age\n",
      "  Bob   30\n",
      "David   28\n"
     ]
    }
   ],
   "source": [
    "import pandas as pd\n",
    "\n",
    "data = {\n",
    "    'Name': ['Alice', 'Bob', 'Charlie', 'David', 'Emily'],\n",
    "    'Age': [25, 30, 22, 28, 24]\n",
    "}\n",
    "\n",
    "df = pd.DataFrame(data)\n",
    "\n",
    "# create a list of names to select\n",
    "names_to_filter = ['Bob', 'David']\n",
    "\n",
    "# use isin() to select rows based on the 'Name' column\n",
    "selected_rows = df[df['Name'].isin(names_to_filter)]\n",
    "\n",
    "print(selected_rows.to_string(index = False))"
   ]
  },
  {
   "cell_type": "markdown",
   "id": "e8ef93b1-ee68-4be5-8032-cc4a22e97983",
   "metadata": {},
   "source": [
    "## MultiIndex in Pandas "
   ]
  },
  {
   "cell_type": "code",
   "execution_count": 84,
   "id": "1d65ab6c-84eb-47d9-a6b6-180723a558cc",
   "metadata": {},
   "outputs": [
    {
     "name": "stdout",
     "output_type": "stream",
     "text": [
      "                              Population\n",
      "Continent     Country                   \n",
      "Asia          China           1439323776\n",
      "              Japan            126476461\n",
      "              India           1380004385\n",
      "              Nepal             29136808\n",
      "Europe        Germany           83783942\n",
      "              France            65273511\n",
      "              United Kingdom    67886011\n",
      "North America United States    331002651\n",
      "              Canada            37742154\n",
      "              Mexico           128932753\n"
     ]
    }
   ],
   "source": [
    "import pandas as pd\n",
    "\n",
    "# create a dictionary\n",
    "data = {\n",
    "    \"Continent\": [\"North America\", \"Europe\", \"Asia\", \"North America\", \"Asia\", \"Europe\", \"North America\", \"Asia\", \"Europe\", \"Asia\"],\n",
    "    \"Country\": [\"United States\", \"Germany\", \"China\", \"Canada\", \"Japan\", \"France\", \"Mexico\", \"India\", \"United Kingdom\", \"Nepal\"],\n",
    "    \"Population\": [331002651, 83783942, 1439323776, 37742154, 126476461, 65273511, 128932753, 1380004385, 67886011, 29136808]\n",
    "}\n",
    "\n",
    "# create dataframe from dictionary\n",
    "df = pd.DataFrame(data)\n",
    "\n",
    "# sort the data by continent\n",
    "df.sort_values('Continent', inplace=True)\n",
    "\n",
    "# create a multiindex\n",
    "df.set_index(['Continent','Country'], inplace=True)\n",
    "\n",
    "print(df)"
   ]
  },
  {
   "cell_type": "markdown",
   "id": "41f9665c-4969-459d-b86f-e2216a8a093f",
   "metadata": {},
   "source": [
    "## Access Rows With MultiIndex "
   ]
  },
  {
   "cell_type": "code",
   "execution_count": 87,
   "id": "845daaad-d616-4aed-b2ad-77ef99e53671",
   "metadata": {},
   "outputs": [
    {
     "name": "stdout",
     "output_type": "stream",
     "text": [
      "Asia\n",
      "          Population\n",
      "Country            \n",
      "China    1439323776\n",
      "Japan     126476461\n",
      "India    1380004385\n",
      "Nepal      29136808\n",
      "\n",
      "Canada\n",
      " Population    37742154\n",
      "Name: (North America, Canada), dtype: int64\n"
     ]
    }
   ],
   "source": [
    "import pandas as pd\n",
    "\n",
    "# create a dictionary\n",
    "data = {\n",
    "    \"Continent\": [\"North America\", \"Europe\", \"Asia\", \"North America\", \"Asia\", \"Europe\", \"North America\", \"Asia\", \"Europe\", \"Asia\"],\n",
    "    \"Country\": [\"United States\", \"Germany\", \"China\", \"Canada\", \"Japan\", \"France\", \"Mexico\", \"India\", \"United Kingdom\", \"Nepal\"],\n",
    "    \"Population\": [331002651, 83783942, 1439323776, 37742154, 126476461, 65273511, 128932753, 1380004385, 67886011, 29136808]\n",
    "}\n",
    "\n",
    "# create dataframe from dictionary\n",
    "df = pd.DataFrame(data)\n",
    "\n",
    "# sort the data by continent\n",
    "df.sort_values('Continent', inplace=True)\n",
    "\n",
    "# create a multiindex\n",
    "df.set_index(['Continent','Country'], inplace=True)\n",
    "\n",
    "# access all entries under Asia\n",
    "asia = df.loc['Asia']\n",
    "\n",
    "# access Canada\n",
    "canada = df.loc[('North America', 'Canada')]\n",
    "\n",
    "print('Asia\\n', asia)\n",
    "print('\\nCanada\\n', canada)"
   ]
  },
  {
   "cell_type": "markdown",
   "id": "11f7d62c-59aa-42ee-92c6-33e59b5e6df7",
   "metadata": {},
   "source": [
    "## MultiIndex from Arrays"
   ]
  },
  {
   "cell_type": "code",
   "execution_count": 90,
   "id": "b5b5cf90-26c4-470e-b6b6-43d630545f96",
   "metadata": {},
   "outputs": [
    {
     "name": "stdout",
     "output_type": "stream",
     "text": [
      "                              Population\n",
      "Continent     Country                   \n",
      "Asia          China           1439323776\n",
      "              India           1380004385\n",
      "              Japan            126476461\n",
      "              Nepal             29136808\n",
      "Europe        France            65273511\n",
      "              Germany           83783942\n",
      "              United Kingdom    67886011\n",
      "North America Canada            37742154\n",
      "              Mexico           128932753\n",
      "              United States    331002651\n"
     ]
    }
   ],
   "source": [
    "import pandas as pd\n",
    "\n",
    "# create arrays\n",
    "continent = ['Asia', 'Asia', 'Asia', 'Asia', 'Europe', 'Europe', 'Europe', 'North America', 'North America', 'North America']\n",
    "country = ['China', 'India', 'Japan', 'Nepal', 'France', 'Germany', 'United Kingdom', 'Canada', 'Mexico', 'United States']\n",
    "population = [1439323776, 1380004385, 126476461, 29136808, 65273511, 83783942, 67886011, 37742154, 128932753, 331002651]\n",
    "\n",
    "# create array of arrays\n",
    "index_array = [continent, country]\n",
    "\n",
    "# create multiindex from array\n",
    "multi_index = pd.MultiIndex.from_arrays(index_array, names=['Continent', 'Country'])\n",
    "\n",
    "# create dataframe using multiindex\n",
    "df = pd.DataFrame({'Population' :population}, index=multi_index)\n",
    "\n",
    "print(df)"
   ]
  },
  {
   "cell_type": "markdown",
   "id": "08b11c5f-71d9-497f-acb6-9ce0e058a742",
   "metadata": {},
   "source": [
    "## Pandas Reshape"
   ]
  },
  {
   "cell_type": "markdown",
   "id": "b78f804e-7f68-49ca-ac99-28a29b68579e",
   "metadata": {},
   "source": [
    "## Reshape Data Using pivot()"
   ]
  },
  {
   "cell_type": "code",
   "execution_count": 94,
   "id": "da8e33e6-db0a-4171-8971-6c4e02a54164",
   "metadata": {},
   "outputs": [
    {
     "name": "stdout",
     "output_type": "stream",
     "text": [
      "[10, 20, 30, 40, 50]\n",
      "0    10\n",
      "1    20\n",
      "2    30\n",
      "3    40\n",
      "4    50\n",
      "dtype: int64\n"
     ]
    }
   ],
   "source": [
    "import pandas as pd\n",
    "\n",
    "# create a list\n",
    "data = [10, 20, 30, 40, 50]\n",
    "print(data)\n",
    "# create a series from the list\n",
    "my_series = pd.Series(data)\n",
    "\n",
    "print(my_series)"
   ]
  },
  {
   "cell_type": "code",
   "execution_count": 96,
   "id": "53b0ee86-88e2-46c5-b42e-d17145722ddd",
   "metadata": {},
   "outputs": [
    {
     "name": "stdout",
     "output_type": "stream",
     "text": [
      "[10, 20, 30, 40, 50]\n",
      "0    10\n",
      "1    20\n",
      "2    30\n",
      "3    40\n",
      "4    50\n",
      "dtype: int64\n"
     ]
    }
   ],
   "source": [
    "import pandas as pd\n",
    "\n",
    "# create a list\n",
    "data = [10, 20, 30, 40, 50]\n",
    "print(data)\n",
    "# create a series from the list\n",
    "my_series = pd.Series(data)\n",
    "\n",
    "print(my_series)"
   ]
  },
  {
   "cell_type": "code",
   "execution_count": 98,
   "id": "e83b1cfe-e50d-494e-8c9a-8e83219e2f9c",
   "metadata": {},
   "outputs": [
    {
     "name": "stdout",
     "output_type": "stream",
     "text": [
      "Original Dataframe:\n",
      "          Date Category  Value\n",
      "0  2023-08-01        A     10\n",
      "1  2023-08-01        B     20\n",
      "2  2023-08-02        A     30\n",
      "3  2023-08-02        B     40\n",
      "Reshaped DataFrame:\n",
      " Category     A   B\n",
      "Date              \n",
      "2023-08-01  10  20\n",
      "2023-08-02  30  40\n"
     ]
    }
   ],
   "source": [
    "import pandas as pd\n",
    "\n",
    "# create a DataFramethe\n",
    "data = {'Date': ['2023-08-01', '2023-08-01', '2023-08-02', '2023-08-02'],\n",
    "        'Category': ['A', 'B', 'A', 'B'],\n",
    "        'Value': [10, 20, 30, 40]}\n",
    "df = pd.DataFrame(data)\n",
    "\n",
    "print(\"Original Dataframe:\\n\", df)\n",
    "\n",
    "# pivot the  DataFrame\n",
    "pivot_df = df.pivot(index='Date', columns='Category', values='Value')\n",
    "print(\"Reshaped DataFrame:\\n\", pivot_df)"
   ]
  },
  {
   "cell_type": "markdown",
   "id": "5cd7ab69-b2ff-4fbe-a426-c8aca6f960bf",
   "metadata": {},
   "source": [
    "## Reshape Data Using pivot_table()"
   ]
  },
  {
   "cell_type": "code",
   "execution_count": 101,
   "id": "1e84b6ba-9205-4508-af6a-4d3372f03f1e",
   "metadata": {},
   "outputs": [
    {
     "name": "stdout",
     "output_type": "stream",
     "text": [
      "Original Dataframe:\n",
      "   Category  Value\n",
      "0        A     10\n",
      "1        B     20\n",
      "2        A     30\n",
      "3        B     40\n",
      "4        A     50\n",
      "5        B     60\n",
      "Reshaped Dataframe:\n",
      "           Value\n",
      "Category       \n",
      "A          30.0\n",
      "B          40.0\n"
     ]
    }
   ],
   "source": [
    "import pandas as pd\n",
    "\n",
    "# create a DataFrame\n",
    "data = {'Category': ['A', 'B', 'A', 'B', 'A', 'B'],\n",
    "        'Value': [10, 20, 30, 40, 50, 60]}\n",
    "df = pd.DataFrame(data)\n",
    "print(\"Original Dataframe:\\n\", df)\n",
    "\n",
    "# create a pivot table\n",
    "pivot_table_df = df.pivot_table(index='Category', values='Value', aggfunc='mean')\n",
    "print(\"Reshaped Dataframe:\\n\", pivot_table_df)"
   ]
  },
  {
   "cell_type": "markdown",
   "id": "6459aa94-8fe3-44c3-89ec-1f867921ba9e",
   "metadata": {},
   "source": [
    "## Reshape Data Using stack() and unstack()"
   ]
  },
  {
   "cell_type": "code",
   "execution_count": 104,
   "id": "9b86386d-6c88-4453-9f3f-c67deb243183",
   "metadata": {},
   "outputs": [
    {
     "name": "stdout",
     "output_type": "stream",
     "text": [
      "Stack:\n",
      " Date                  \n",
      "2023-08-01  Category_A    10\n",
      "            Category_B    30\n",
      "2023-08-02  Category_A    20\n",
      "            Category_B    40\n",
      "dtype: int64\n",
      "\n",
      "Unstack: \n",
      "             Category_A  Category_B\n",
      "Date                              \n",
      "2023-08-01          10          30\n",
      "2023-08-02          20          40\n"
     ]
    }
   ],
   "source": [
    "import pandas as pd\n",
    "\n",
    "# create a DataFrame\n",
    "data = {'Date': ['2023-08-01', '2023-08-02'],\n",
    "        'Category_A': [10, 20],\n",
    "        'Category_B': [30, 40]}\n",
    "df = pd.DataFrame(data)\n",
    "\n",
    "# set 'Date' column as the index\n",
    "df.set_index('Date', inplace=True)\n",
    "\n",
    "# stack the columns into rows\n",
    "stacked_df = df.stack()\n",
    "print(\"Stack:\\n\", stacked_df)\n",
    "print()\n",
    "\n",
    "# unstack the rows back to columns\n",
    "unstacked_df = stacked_df.unstack()\n",
    "print(\"Unstack: \\n\", unstacked_df)"
   ]
  },
  {
   "cell_type": "markdown",
   "id": "f2167982-ba1e-419e-b1e0-317bb96a9141",
   "metadata": {},
   "source": [
    "## Use of melt() to Reshape DataFrame"
   ]
  },
  {
   "cell_type": "code",
   "execution_count": 107,
   "id": "9ae9beaa-dd42-4934-9c55-a2f66eeb5335",
   "metadata": {},
   "outputs": [
    {
     "name": "stdout",
     "output_type": "stream",
     "text": [
      "    Name  Subject  Score\n",
      "0  Alice     Math     90\n",
      "1    Bob     Math     85\n",
      "2  Alice  History     75\n",
      "3    Bob  History     92\n"
     ]
    }
   ],
   "source": [
    "import pandas as pd\n",
    "\n",
    "# create a sample DataFrame\n",
    "data = {'Name': ['Alice', 'Bob'],\n",
    "        'Math': [90, 85],\n",
    "        'History': [75, 92]}\n",
    "df = pd.DataFrame(data)\n",
    "\n",
    "# melt the DataFrame\n",
    "melted_df = pd.melt(df, id_vars='Name', var_name='Subject', value_name='Score')\n",
    "\n",
    "print(melted_df)"
   ]
  },
  {
   "cell_type": "markdown",
   "id": "fb852801-42cb-4eeb-abee-4d22f56beb93",
   "metadata": {},
   "source": [
    "## Pandas Handling Duplicate Values"
   ]
  },
  {
   "cell_type": "markdown",
   "id": "ffc38a4c-785c-485c-a902-67b17277007b",
   "metadata": {},
   "source": [
    "Find Duplicate Entries"
   ]
  },
  {
   "cell_type": "code",
   "execution_count": 113,
   "id": "affe1a7c-8f35-4e82-bbcd-f2b7fec1e639",
   "metadata": {},
   "outputs": [
    {
     "name": "stdout",
     "output_type": "stream",
     "text": [
      "   Name  Age         City\n",
      "0  John   28     New York\n",
      "1  Anna   24  Los Angeles\n",
      "2  John   28     New York\n",
      "3  Anna   24  Los Angeles\n",
      "4  John   19      Chicago\n",
      "0    False\n",
      "1    False\n",
      "2     True\n",
      "3     True\n",
      "4    False\n",
      "dtype: bool\n"
     ]
    }
   ],
   "source": [
    "import pandas as pd\n",
    "\n",
    "# create dataframe\n",
    "data = {\n",
    "    'Name': ['John', 'Anna', 'John', 'Anna', 'John'],\n",
    "    'Age': [28, 24, 28, 24, 19],\n",
    "    'City': ['New York', 'Los Angeles', 'New York', 'Los Angeles', 'Chicago']\n",
    "}\n",
    "df = pd.DataFrame(data)\n",
    "print(df )\n",
    "# check for duplicate entries\n",
    "print(df.duplicated())"
   ]
  },
  {
   "cell_type": "markdown",
   "id": "c03fba43-86ae-4cac-abee-da9d69ed53bc",
   "metadata": {},
   "source": [
    "Find Duplicates Based on Columns"
   ]
  },
  {
   "cell_type": "code",
   "execution_count": 116,
   "id": "25c14ad3-6bfb-4d6e-8982-207cd7d9db80",
   "metadata": {},
   "outputs": [
    {
     "name": "stdout",
     "output_type": "stream",
     "text": [
      "     Name  Age         City\n",
      "0    John   28     New York\n",
      "1    Anna   24    Las Vegas\n",
      "2  Johnny   28     New York\n",
      "3    Anna   24  Los Angeles\n",
      "4    John   19      Chicago\n",
      "0    False\n",
      "1    False\n",
      "2    False\n",
      "3     True\n",
      "4    False\n",
      "dtype: bool\n"
     ]
    }
   ],
   "source": [
    "import pandas as pd\n",
    "\n",
    "# create dataframe\n",
    "data = {\n",
    "    'Name': ['John', 'Anna', 'Johnny', 'Anna', 'John'],\n",
    "    'Age': [28, 24, 28, 24, 19],\n",
    "    'City': ['New York', 'Las Vegas', 'New York', 'Los Angeles', 'Chicago']\n",
    "}\n",
    "df = pd.DataFrame(data)\n",
    "print(df )\n",
    "# check for duplicate entries in columns Name and Age\n",
    "print(df.duplicated(subset=['Name', 'Age']))"
   ]
  },
  {
   "cell_type": "markdown",
   "id": "0f3684be-1875-4d79-a2b7-7c13da911ab9",
   "metadata": {},
   "source": [
    "## Remove Duplicate Entries "
   ]
  },
  {
   "cell_type": "code",
   "execution_count": 119,
   "id": "9103f66b-38cf-461c-a7ba-161959e07ca2",
   "metadata": {},
   "outputs": [
    {
     "name": "stdout",
     "output_type": "stream",
     "text": [
      "   Name  Age         City\n",
      "0  John   28     New York\n",
      "1  Anna   24  Los Angeles\n",
      "2  John   28     New York\n",
      "3  Anna   24  Los Angeles\n",
      "4  John   19      Chicago\n",
      "   Name  Age         City\n",
      "0  John   28     New York\n",
      "1  Anna   24  Los Angeles\n",
      "4  John   19      Chicago\n"
     ]
    }
   ],
   "source": [
    "import pandas as pd\n",
    "\n",
    "# create dataframe\n",
    "data = {\n",
    "    'Name': ['John', 'Anna', 'John', 'Anna', 'John'],\n",
    "    'Age': [28, 24, 28, 24, 19],\n",
    "    'City': ['New York', 'Los Angeles', 'New York', 'Los Angeles', 'Chicago']\n",
    "}\n",
    "df = pd.DataFrame(data)\n",
    "print(df )\n",
    "# remove duplicates\n",
    "df.drop_duplicates(inplace=True)\n",
    "\n",
    "print(df)"
   ]
  },
  {
   "cell_type": "code",
   "execution_count": 121,
   "id": "a2af985e-b0d7-4323-bcda-18b7b3a7aa6c",
   "metadata": {},
   "outputs": [
    {
     "name": "stdout",
     "output_type": "stream",
     "text": [
      "   Name  Age         City\n",
      "2  John   28     New York\n",
      "3  Anna   24  Los Angeles\n",
      "4  John   19      Chicago\n"
     ]
    }
   ],
   "source": [
    "import pandas as pd\n",
    "\n",
    "# create dataframe\n",
    "data = {\n",
    "    'Name': ['John', 'Anna', 'John', 'Anna', 'John'],\n",
    "    'Age': [28, 24, 28, 24, 19],\n",
    "    'City': ['New York', 'Los Angeles', 'New York', 'Los Angeles', 'Chicago']\n",
    "}\n",
    "df = pd.DataFrame(data)\n",
    "\n",
    "# remove duplicates, keep last entries\n",
    "df.drop_duplicates(keep='last', inplace=True)\n",
    "\n",
    "print(df)"
   ]
  },
  {
   "cell_type": "markdown",
   "id": "ddd949f8-4250-4403-8b1d-30535392e070",
   "metadata": {},
   "source": [
    "## Pandas Pivot "
   ]
  },
  {
   "cell_type": "code",
   "execution_count": 124,
   "id": "e7f4d36c-b09a-4272-9dc6-9b42462c9571",
   "metadata": {},
   "outputs": [
    {
     "name": "stdout",
     "output_type": "stream",
     "text": [
      "Original DataFrame\n",
      "          Date         City  Temperature\n",
      "0  2023-01-01     New York           32\n",
      "1  2023-01-01  Los Angeles           75\n",
      "2  2023-01-02     New York           30\n",
      "3  2023-01-02  Los Angeles           77\n",
      "\n",
      "Reshaped DataFrame\n",
      " City        Los Angeles  New York\n",
      "Date                             \n",
      "2023-01-01           75        32\n",
      "2023-01-02           77        30\n"
     ]
    }
   ],
   "source": [
    "import pandas as pd\n",
    "\n",
    "# create a dataframe\n",
    "data = {'Date': ['2023-01-01', '2023-01-01', '2023-01-02', '2023-01-02'],\n",
    "        'City': ['New York', 'Los Angeles', 'New York', 'Los Angeles'],\n",
    "        'Temperature': [32, 75, 30, 77]}\n",
    "df = pd.DataFrame(data)\n",
    "\n",
    "print(\"Original DataFrame\\n\", df)\n",
    "print()\n",
    "\n",
    "# pivot the dataframe\n",
    "pivot_df = df.pivot(index='Date', columns='City', values='Temperature')\n",
    "\n",
    "print(\"Reshaped DataFrame\\n\", pivot_df)"
   ]
  },
  {
   "cell_type": "markdown",
   "id": "f9f87eec-5bb6-4ad7-8f41-8cd706c0f33d",
   "metadata": {},
   "source": [
    "## pivot() for Multiple Values"
   ]
  },
  {
   "cell_type": "code",
   "execution_count": 127,
   "id": "c3a22fcb-87b8-45b6-858b-8bfef5ffd406",
   "metadata": {},
   "outputs": [
    {
     "name": "stdout",
     "output_type": "stream",
     "text": [
      "Original DataFrame\n",
      "         Date         City  Temperature  Humidity\n",
      "0  2023-01-01     New York           32        80\n",
      "1  2023-01-01  Los Angeles           75        10\n",
      "2  2023-01-02     New York           30        85\n",
      "3  2023-01-02  Los Angeles           77         5\n",
      "\n",
      "Reshaped DataFrame\n",
      "           Temperature             Humidity         \n",
      "City       Los Angeles New York Los Angeles New York\n",
      "Date                                                \n",
      "2023-01-01          75       32          10       80\n",
      "2023-01-02          77       30           5       85\n"
     ]
    }
   ],
   "source": [
    "import pandas as pd\n",
    "\n",
    "# create a dataframe\n",
    "data = {'Date': ['2023-01-01', '2023-01-01', '2023-01-02', '2023-01-02'],\n",
    "        'City': ['New York', 'Los Angeles', 'New York', 'Los Angeles'],\n",
    "        'Temperature': [32, 75, 30, 77],\n",
    "        'Humidity': [80, 10, 85, 5]}\n",
    "\n",
    "df = pd.DataFrame(data)\n",
    "\n",
    "print('Original DataFrame')\n",
    "print(df)\n",
    "print()\n",
    "\n",
    "# pivot the dataframe\n",
    "pivot_df = df.pivot(index='Date', columns='City')\n",
    "\n",
    "print('Reshaped DataFrame')\n",
    "print(pivot_df)"
   ]
  },
  {
   "cell_type": "markdown",
   "id": "aef81ef8-e7f4-4d64-b5cf-eacaa387af51",
   "metadata": {},
   "source": [
    "## pivot() vs pivot_table()"
   ]
  },
  {
   "cell_type": "markdown",
   "id": "be768d8c-c4df-4d95-b144-9d10a52c9d21",
   "metadata": {},
   "source": [
    "### Pandas Pivot Table"
   ]
  },
  {
   "cell_type": "code",
   "execution_count": 131,
   "id": "f5f3bf8f-7c8d-4037-affd-a23b5dcb7cfd",
   "metadata": {},
   "outputs": [
    {
     "name": "stdout",
     "output_type": "stream",
     "text": [
      "Original DataFrame\n",
      "          Date         City  Temperature\n",
      "0  2023-01-01     New York           32\n",
      "1  2023-01-01  Los Angeles           75\n",
      "2  2023-01-02     New York           30\n",
      "3  2023-01-02  Los Angeles           77\n",
      "\n",
      "Reshaped DataFrame\n",
      " City        Los Angeles  New York\n",
      "Date                             \n",
      "2023-01-01         75.0      32.0\n",
      "2023-01-02         77.0      30.0\n"
     ]
    }
   ],
   "source": [
    "import pandas as pd\n",
    "\n",
    "# create a dataframe\n",
    "data = {'Date': ['2023-01-01', '2023-01-01', '2023-01-02', '2023-01-02'],\n",
    "        'City': ['New York', 'Los Angeles', 'New York', 'Los Angeles'],\n",
    "        'Temperature': [32, 75, 30, 77]}\n",
    "df = pd.DataFrame(data)\n",
    "\n",
    "print(\"Original DataFrame\\n\", df)\n",
    "print()\n",
    "\n",
    "# pivot the dataframe\n",
    "pivot_df = df.pivot_table(index='Date', columns='City', values='Temperature')\n",
    "\n",
    "print(\"Reshaped DataFrame\\n\", pivot_df)"
   ]
  },
  {
   "cell_type": "markdown",
   "id": "bcc8f29d-a5d1-41c2-b765-f05c5398c074",
   "metadata": {},
   "source": [
    "## pivot_table() Syntax"
   ]
  },
  {
   "cell_type": "markdown",
   "id": "6f975aa9-c42f-40af-9431-1850f4fd4b40",
   "metadata": {},
   "source": [
    "## pivot_table() with Multiple Values"
   ]
  },
  {
   "cell_type": "code",
   "execution_count": 135,
   "id": "1c875091-5667-4a4c-b83d-866ecd2474e5",
   "metadata": {},
   "outputs": [
    {
     "name": "stdout",
     "output_type": "stream",
     "text": [
      "Original DataFrame\n",
      "         Date         City  Temperature  Humidity\n",
      "0  2023-01-01     New York           32        80\n",
      "1  2023-01-01  Los Angeles           75        10\n",
      "2  2023-01-02     New York           30        85\n",
      "3  2023-01-02  Los Angeles           77         5\n",
      "\n",
      "Reshaped DataFrame\n",
      "              Humidity          Temperature         \n",
      "City       Los Angeles New York Los Angeles New York\n",
      "Date                                                \n",
      "2023-01-01        10.0     80.0        75.0     32.0\n",
      "2023-01-02         5.0     85.0        77.0     30.0\n"
     ]
    }
   ],
   "source": [
    "import pandas as pd\n",
    "\n",
    "# create a dataframe\n",
    "data = {'Date': ['2023-01-01', '2023-01-01', '2023-01-02', '2023-01-02'],\n",
    "        'City': ['New York', 'Los Angeles', 'New York', 'Los Angeles'],\n",
    "        'Temperature': [32, 75, 30, 77],\n",
    "        'Humidity': [80, 10, 85, 5]}\n",
    "\n",
    "df = pd.DataFrame(data)\n",
    "\n",
    "print('Original DataFrame')\n",
    "print(df)\n",
    "print()\n",
    "\n",
    "# pivot the dataframe\n",
    "pivot_df = df.pivot_table(index='Date', columns='City')\n",
    "\n",
    "print('Reshaped DataFrame')\n",
    "print(pivot_df)"
   ]
  },
  {
   "cell_type": "markdown",
   "id": "8c26e8e3-c9a4-452c-8900-11a461de56d7",
   "metadata": {},
   "source": [
    "## pivot_table() With Aggregate Functions"
   ]
  },
  {
   "cell_type": "code",
   "execution_count": 138,
   "id": "dcce1aa4-5cce-4fb2-8d29-bb36ae8e3769",
   "metadata": {},
   "outputs": [
    {
     "name": "stdout",
     "output_type": "stream",
     "text": [
      "             Temperature\n",
      "City                    \n",
      "Los Angeles    76.666667\n",
      "New York       31.666667\n"
     ]
    }
   ],
   "source": [
    "import pandas as pd\n",
    "\n",
    "data = {'Date': ['2023-01-01', '2023-01-01', '2023-01-02', '2023-01-02', '2023-01-03', '2023-01-03'],\n",
    "        'City': ['New York', 'Los Angeles', 'New York', 'Los Angeles', 'New York', 'Los Angeles'],\n",
    "        'Temperature': [32, 75, 30, 77, 33, 78],\n",
    "        'Humidity': [80, 10, 85, 5, 81, 7]}\n",
    "\n",
    "df = pd.DataFrame(data)\n",
    "\n",
    "# calculate mean temperature for each city using pivot_table()\n",
    "mean_temperature = df.pivot_table(index='City', values='Temperature', aggfunc='mean')\n",
    "\n",
    "print(mean_temperature)"
   ]
  },
  {
   "cell_type": "markdown",
   "id": "69fd57a7-bef5-4300-ba1a-a4372623cad3",
   "metadata": {},
   "source": [
    "## Pivot Table With MultiIndex "
   ]
  },
  {
   "cell_type": "code",
   "execution_count": 141,
   "id": "159d9b62-2b00-4b67-a05e-27e5017a92cb",
   "metadata": {},
   "outputs": [
    {
     "name": "stdout",
     "output_type": "stream",
     "text": [
      "Original DataFrame\n",
      "          Date         City Country  Temperature\n",
      "0  2023-01-01     New York     USA           32\n",
      "1  2023-01-01  Los Angeles     USA           75\n",
      "2  2023-01-02     New York     USA           30\n",
      "3  2023-01-02  Los Angeles     USA           77\n",
      "4  2023-01-01        Delhi   India           75\n",
      "5  2023-01-01      Chennai   India           80\n",
      "6  2023-01-02        Delhi   India           78\n",
      "7  2023-01-02      Chennai   India           79\n",
      "\n",
      "Reshaped DataFrame\n",
      " Date                 2023-01-01  2023-01-02\n",
      "Country City                               \n",
      "India   Chennai            80.0        79.0\n",
      "        Delhi              75.0        78.0\n",
      "USA     Los Angeles        75.0        77.0\n",
      "        New York           32.0        30.0\n"
     ]
    }
   ],
   "source": [
    "import pandas as pd\n",
    "\n",
    "# create a dataframe\n",
    "data = {'Date': ['2023-01-01', '2023-01-01', '2023-01-02', '2023-01-02', '2023-01-01', '2023-01-01', '2023-01-02', '2023-01-02'],\n",
    "        'City': ['New York', 'Los Angeles', 'New York', 'Los Angeles','Delhi', 'Chennai', 'Delhi', 'Chennai'],\n",
    "        'Country': ['USA', 'USA', 'USA', 'USA', 'India', 'India', 'India', 'India'],\n",
    "        'Temperature': [32, 75, 30, 77, 75, 80, 78, 79]}\n",
    "df = pd.DataFrame(data)\n",
    "\n",
    "print(\"Original DataFrame\\n\", df)\n",
    "print()\n",
    "\n",
    "# create a pivot table with multiindex\n",
    "pivot_df = df.pivot_table(index=['Country', 'City'], columns='Date', values='Temperature')\n",
    "\n",
    "print(\"Reshaped DataFrame\\n\", pivot_df)"
   ]
  },
  {
   "cell_type": "markdown",
   "id": "1465ad3d-48f2-41cf-b5ac-9ee8392a4c85",
   "metadata": {},
   "source": [
    "## Handle Missing Values With pivot_table()"
   ]
  },
  {
   "cell_type": "code",
   "execution_count": 144,
   "id": "d563982f-af52-475f-90c5-ca6a140b1640",
   "metadata": {},
   "outputs": [
    {
     "name": "stdout",
     "output_type": "stream",
     "text": [
      "\n",
      "Default Pivot Table\n",
      " City        Los Angeles  New York\n",
      "Date                             \n",
      "2023-01-01         75.0      32.0\n",
      "2023-01-02         77.0      30.0\n",
      "2023-01-03         76.0       NaN\n",
      "\n",
      "Pivot Table with dropna=False:\n",
      " City        Chicago  Los Angeles  New York\n",
      "Date                                      \n",
      "2023-01-01      NaN         75.0      32.0\n",
      "2023-01-02      NaN         77.0      30.0\n",
      "2023-01-03      NaN         76.0       NaN\n"
     ]
    }
   ],
   "source": [
    "import pandas as pd\n",
    "import numpy as np\n",
    "\n",
    "# Creating the DataFrame\n",
    "data = {'Date': ['2023-01-01', '2023-01-01', '2023-01-02', '2023-01-02', '2023-01-03', '2023-01-03', '2023-01-03'],\n",
    "        'City': ['New York', 'Los Angeles', 'New York', 'Los Angeles', 'New York', 'Los Angeles', 'Chicago'],\n",
    "        'Temperature': [32, 75, 30, 77, np.nan, 76, np.nan]}\n",
    "df = pd.DataFrame(data)\n",
    "\n",
    "# create a pivot table\n",
    "pivot_df = df.pivot_table(index='Date', columns='City', values='Temperature')\n",
    "\n",
    "print(\"\\nDefault Pivot Table\\n\", pivot_df)\n",
    "\n",
    "# create a pivot table with dropna=True\n",
    "pivot_df_dropna = df.pivot_table(index='Date', columns='City', values='Temperature', dropna=False)\n",
    "\n",
    "print(\"\\nPivot Table with dropna=False:\\n\", pivot_df_dropna)"
   ]
  },
  {
   "cell_type": "code",
   "execution_count": 146,
   "id": "47866f82-b921-4822-8c35-0487fa7cb3b1",
   "metadata": {},
   "outputs": [
    {
     "name": "stdout",
     "output_type": "stream",
     "text": [
      "\n",
      "Default Pivot Table\n",
      " City        Los Angeles  New York\n",
      "Date                             \n",
      "2023-01-01          NaN      32.0\n",
      "2023-01-02         77.0      30.0\n",
      "2023-01-03         76.0       NaN\n",
      "\n",
      "Pivot Table with fill_value=0:\n",
      " City        Los Angeles  New York\n",
      "Date                             \n",
      "2023-01-01          0.0      32.0\n",
      "2023-01-02         77.0      30.0\n",
      "2023-01-03         76.0       0.0\n"
     ]
    }
   ],
   "source": [
    "import pandas as pd\n",
    "import numpy as np\n",
    "\n",
    "# Creating the DataFrame\n",
    "data = {'Date': ['2023-01-01', '2023-01-01', '2023-01-02', '2023-01-02', '2023-01-03', '2023-01-03'],\n",
    "        'City': ['New York', 'Los Angeles', 'New York', 'Los Angeles', 'New York', 'Los Angeles'],\n",
    "        'Temperature': [32, np.nan, 30, 77, np.nan, 76]}\n",
    "df = pd.DataFrame(data)\n",
    "\n",
    "# create a pivot table\n",
    "pivot_df = df.pivot_table(index='Date', columns='City', values='Temperature')\n",
    "\n",
    "print(\"\\nDefault Pivot Table\\n\", pivot_df)\n",
    "\n",
    "# create a pivot table with fill_value=0\n",
    "pivot_df_dropna = df.pivot_table(index='Date', columns='City', values='Temperature', fill_value=0)\n",
    "\n",
    "print(\"\\nPivot Table with fill_value=0:\\n\", pivot_df_dropna)"
   ]
  },
  {
   "cell_type": "markdown",
   "id": "632f559d-24e8-46c5-a0f4-e593644ad427",
   "metadata": {},
   "source": [
    "## Pandas DateTime"
   ]
  },
  {
   "cell_type": "code",
   "execution_count": 149,
   "id": "89cacb46-fc18-491d-9f95-9afc88ef7b4e",
   "metadata": {},
   "outputs": [
    {
     "name": "stdout",
     "output_type": "stream",
     "text": [
      "String: 2001-12-24 12:38\n",
      "DateTime: 2001-12-24 12:38:00\n",
      "<class 'pandas._libs.tslibs.timestamps.Timestamp'>\n"
     ]
    }
   ],
   "source": [
    "import pandas as pd\n",
    "\n",
    "# create a datetime string\n",
    "date_string = '2001-12-24 12:38'\n",
    "\n",
    "print(\"String:\", date_string)\n",
    "\n",
    "# convert string to datetime\n",
    "date = pd.to_datetime(date_string)\n",
    "\n",
    "print(\"DateTime:\", date)\n",
    "print(type(date))"
   ]
  },
  {
   "cell_type": "markdown",
   "id": "6a8dd8d6-97b6-454e-a974-32b5225fa5b2",
   "metadata": {},
   "source": [
    "## Convert String to DateTime"
   ]
  },
  {
   "cell_type": "code",
   "execution_count": 152,
   "id": "93a7140a-8e9b-4bb8-90d5-4b98324cea44",
   "metadata": {},
   "outputs": [
    {
     "name": "stdout",
     "output_type": "stream",
     "text": [
      "        date\n",
      "0 2021-01-13\n",
      "1 2022-10-22\n",
      "2 2023-12-03\n"
     ]
    }
   ],
   "source": [
    "### to_datetime() With Default Arguments\n",
    "import pandas as pd\n",
    "\n",
    "# create a dataframe with date strings\n",
    "df = pd.DataFrame({'date': ['2021-01-13', '2022-10-22', '2023-12-03']})\n",
    "\n",
    "# convert the 'date' column to datetime\n",
    "df['date'] = pd.to_datetime(df['date'])\n",
    "\n",
    "print(df)"
   ]
  },
  {
   "cell_type": "code",
   "execution_count": 154,
   "id": "b37046c1-a566-4579-91df-479960f1fca6",
   "metadata": {},
   "outputs": [
    {
     "name": "stdout",
     "output_type": "stream",
     "text": [
      "        date\n",
      "0 2021-02-13\n",
      "1 2022-03-22\n",
      "2 2023-04-30\n",
      "3 2021-01-01\n"
     ]
    }
   ],
   "source": [
    "### to_datetime() With Day First Format\n",
    "import pandas as pd\n",
    "\n",
    "# create a dataframe with date strings in day-first format\n",
    "df = pd.DataFrame({'date': ['13-02-2021', '22-03-2022', '30-04-2023', '01-01-2021']})\n",
    "\n",
    "# convert the 'date' column to datetime with day-first format\n",
    "df['date'] = pd.to_datetime(df['date'], dayfirst=True)\n",
    "\n",
    "print(df)"
   ]
  },
  {
   "cell_type": "markdown",
   "id": "1f26751a-1b51-4260-b772-c5ea7260d817",
   "metadata": {},
   "source": [
    "## to_datetime() With Custom Format"
   ]
  },
  {
   "cell_type": "code",
   "execution_count": 157,
   "id": "7e40fdf7-6206-4876-9eed-84c4e2884051",
   "metadata": {},
   "outputs": [
    {
     "name": "stdout",
     "output_type": "stream",
     "text": [
      "        date\n",
      "0 2021-01-22\n",
      "1 2022-01-13\n",
      "2 2023-03-30\n"
     ]
    }
   ],
   "source": [
    "import pandas as pd\n",
    "\n",
    "# create a dataframe with date strings in custom format\n",
    "df = pd.DataFrame({'date': ['2021/22/01', '2022/13/01', '2023/30/03']})\n",
    "\n",
    "# convert the 'date' column to datetime with custom format\n",
    "df['date'] = pd.to_datetime(df['date'], format='%Y/%d/%m')\n",
    "\n",
    "print(df)"
   ]
  },
  {
   "cell_type": "markdown",
   "id": "8a3e1aad-90cb-4188-b537-e0766e96aa33",
   "metadata": {},
   "source": [
    "## Get DateTime From Multiple Columns "
   ]
  },
  {
   "cell_type": "code",
   "execution_count": 160,
   "id": "357bed37-e22f-4300-8993-83839bd41c06",
   "metadata": {},
   "outputs": [
    {
     "name": "stdout",
     "output_type": "stream",
     "text": [
      "   year  month  day  hour  minute  second            datetime\n",
      "0  2021      1    1    10      30       0 2021-01-01 10:30:00\n",
      "1  2022      2    2    11      45       0 2022-02-02 11:45:00\n",
      "2  2023      3    3    12       0       0 2023-03-03 12:00:00\n"
     ]
    }
   ],
   "source": [
    "import pandas as pd\n",
    "\n",
    "# create a dataframe with separate date and time columns\n",
    "df = pd.DataFrame({'year': [2021, 2022, 2023],\n",
    "                   'month': [1, 2, 3],\n",
    "                   'day': [1, 2, 3],\n",
    "                   'hour': [10, 11, 12],\n",
    "                   'minute': [30, 45, 0],\n",
    "                   'second': [0, 0, 0]})\n",
    "\n",
    "# combine date and time columns to create a datetime column\n",
    "df['datetime'] = pd.to_datetime(df[['year', 'month', 'day', 'hour', 'minute', 'second']])\n",
    "\n",
    "print(df)"
   ]
  },
  {
   "cell_type": "markdown",
   "id": "f524b247-3001-4455-849d-c5a87ed70d21",
   "metadata": {},
   "source": [
    "## Get Year, Month and Day From DateTime "
   ]
  },
  {
   "cell_type": "code",
   "execution_count": 163,
   "id": "92ac86f4-a59b-4a40-9327-71d108b0ac43",
   "metadata": {},
   "outputs": [
    {
     "name": "stdout",
     "output_type": "stream",
     "text": [
      "    datetime  year  month  day\n",
      "0 2021-01-01  2021      1    1\n",
      "1 2022-02-02  2022      2    2\n",
      "2 2023-03-03  2023      3    3\n"
     ]
    }
   ],
   "source": [
    "import pandas as pd\n",
    "\n",
    "# create a dataframe with a datetime column\n",
    "df = pd.DataFrame({'datetime': ['2021-01-01', '2022-02-02', '2023-03-03']})\n",
    "\n",
    "# convert the 'datetime' column to datetime type\n",
    "df['datetime'] = pd.to_datetime(df['datetime'])\n",
    "\n",
    "# extract year, month, and day into separate columns\n",
    "df['year'] = df['datetime'].dt.year\n",
    "df['month'] = df['datetime'].dt.month\n",
    "df['day'] = df['datetime'].dt.day\n",
    "\n",
    "print(df)"
   ]
  },
  {
   "cell_type": "markdown",
   "id": "f03a5623-91ae-4c86-898b-dfacaea424a2",
   "metadata": {},
   "source": [
    "## Get Day of Week, Week of Year and Leap Year"
   ]
  },
  {
   "cell_type": "code",
   "execution_count": 166,
   "id": "36cdcaec-44ea-4b2c-bcc5-2981e2a17902",
   "metadata": {},
   "outputs": [
    {
     "name": "stdout",
     "output_type": "stream",
     "text": [
      "    datetime day_of_week  week_of_year  leap_year\n",
      "0 2021-01-01      Friday            53      False\n",
      "1 2024-02-02      Friday             5       True\n",
      "2 2023-03-03      Friday             9      False\n"
     ]
    }
   ],
   "source": [
    "import pandas as pd\n",
    "\n",
    "# create a dataframe with a datetime column\n",
    "df = pd.DataFrame({'datetime': ['2021-01-01', '2024-02-02', '2023-03-03']})\n",
    "\n",
    "# convert the 'datetime' column to datetime type\n",
    "df['datetime'] = pd.to_datetime(df['datetime'])\n",
    "\n",
    "# get the day of the week\n",
    "df['day_of_week'] = df['datetime'].dt.day_name()\n",
    "\n",
    "# get the week of the year\n",
    "df['week_of_year'] = df['datetime'].dt.isocalendar().week\n",
    "\n",
    "# check for leap year\n",
    "df['leap_year'] = df['datetime'].dt.is_leap_year\n",
    "\n",
    "print(df)"
   ]
  },
  {
   "cell_type": "markdown",
   "id": "293b8aa1-6d62-4fa1-9bd9-183ad9d814d5",
   "metadata": {},
   "source": [
    "## DateTime Index in Pandas\n"
   ]
  },
  {
   "cell_type": "code",
   "execution_count": 169,
   "id": "a3ed40a8-e5ef-47f0-af35-1ddd31a2ccdd",
   "metadata": {},
   "outputs": [
    {
     "name": "stdout",
     "output_type": "stream",
     "text": [
      "            values\n",
      "2021-01-01      10\n",
      "2021-01-02      20\n",
      "2021-01-03      30\n",
      "2021-01-04      40\n",
      "2021-01-05      50\n"
     ]
    }
   ],
   "source": [
    "import pandas as pd\n",
    "\n",
    "# create a list of datetime values\n",
    "dates = ['2021-01-01', '2021-01-02', '2021-01-03', '2021-01-04', '2021-01-05']\n",
    "\n",
    "# create a DataFrame with a DateTimeIndex\n",
    "df = pd.DataFrame({'values': [10, 20, 30, 40, 50]}, index=pd.to_datetime(dates))\n",
    "\n",
    "print(df)"
   ]
  },
  {
   "cell_type": "markdown",
   "id": "4c1fb58f-c118-4a42-8ecd-de80144f2057",
   "metadata": {},
   "source": [
    "## Pandas Aggregate Function"
   ]
  },
  {
   "cell_type": "markdown",
   "id": "3b630393-3323-4297-aadc-f30a09eab447",
   "metadata": {},
   "source": [
    "## basic syntax of the aggregate function "
   ]
  },
  {
   "cell_type": "markdown",
   "id": "3a277dda-e6db-44b9-b59c-2bb7b5d5000d",
   "metadata": {},
   "source": [
    "## Apply Single Aggregate Function "
   ]
  },
  {
   "cell_type": "code",
   "execution_count": 174,
   "id": "5ec118a8-040f-44ff-8905-10a9f6f34aba",
   "metadata": {},
   "outputs": [
    {
     "name": "stdout",
     "output_type": "stream",
     "text": [
      "Total Sum: 135\n",
      "Average Value: 22.5\n",
      "Maximum Value: 35\n"
     ]
    }
   ],
   "source": [
    "import pandas as pd\n",
    "\n",
    "data = {\n",
    "    'Category': ['A', 'A', 'B', 'B', 'A', 'B'],\n",
    "    'Value': [10, 15, 20, 25, 30, 35]\n",
    "}\n",
    "\n",
    "df = pd.DataFrame(data)\n",
    "\n",
    "# calculate total sum of the Value column\n",
    "total_sum = df['Value'].aggregate('sum')\n",
    "print(\"Total Sum:\", total_sum)\n",
    "\n",
    "# calculate the mean of the Value column\n",
    "average_value = df['Value'].aggregate('mean')\n",
    "print(\"Average Value:\", average_value)\n",
    "\n",
    "# calculate the maximum value in the Value column\n",
    "max_value = df['Value'].aggregate('max')\n",
    "print(\"Maximum Value:\", max_value)\n"
   ]
  },
  {
   "cell_type": "markdown",
   "id": "0c3aaadd-69fd-4c81-b0f4-d5003d58e826",
   "metadata": {},
   "source": [
    "## Apply Multiple Aggregate Functions in Pandas "
   ]
  },
  {
   "cell_type": "code",
   "execution_count": 177,
   "id": "ca8ea64d-2bc4-49f9-8a8e-37620f801d35",
   "metadata": {},
   "outputs": [
    {
     "name": "stdout",
     "output_type": "stream",
     "text": [
      "          sum       mean  max  min\n",
      "Category                          \n",
      "A          55  18.333333   30   10\n",
      "B          80  26.666667   35   20\n"
     ]
    }
   ],
   "source": [
    "import pandas as pd\n",
    "\n",
    "data = {\n",
    "    'Category': ['A', 'A', 'B', 'B', 'A', 'B'],\n",
    "    'Value': [10, 15, 20, 25, 30, 35]\n",
    "}\n",
    "\n",
    "df = pd.DataFrame(data)\n",
    "\n",
    "# applying multiple aggregation functions to a single column\n",
    "result = df.groupby('Category')['Value'].agg(['sum', 'mean', 'max', 'min'])\n",
    "print(result)"
   ]
  },
  {
   "cell_type": "markdown",
   "id": "a9bc2f8b-6087-4df7-a91c-7cd978afa5bd",
   "metadata": {},
   "source": [
    "## Apply Different Aggregation Functions "
   ]
  },
  {
   "cell_type": "code",
   "execution_count": 182,
   "id": "7eb634b0-65f4-4c41-a25b-3a78b87d364f",
   "metadata": {},
   "outputs": [
    {
     "name": "stdout",
     "output_type": "stream",
     "text": [
      "         Value1     Value2    \n",
      "            sum       mean max\n",
      "Category                      \n",
      "A            55  10.333333  18\n",
      "B            80  16.000000  21\n"
     ]
    }
   ],
   "source": [
    "import pandas as pd\n",
    "\n",
    "data = {\n",
    "    'Category': ['A', 'A', 'B', 'B', 'A', 'B'],\n",
    "    'Value1': [10, 15, 20, 25, 30, 35],\n",
    "    'Value2': [5, 8, 12, 15, 18, 21]\n",
    "}\n",
    "\n",
    "df = pd.DataFrame(data)\n",
    "\n",
    "agg_funcs = {\n",
    "\n",
    " # applying 'sum' to Value1 column\n",
    "    'Value1': 'sum',   \n",
    "       \n",
    "# applying 'mean' and 'max' to Value2 column \n",
    "    'Value2': ['mean', 'max']   \n",
    "}\n",
    "\n",
    "result = df.groupby('Category').aggregate(agg_funcs)\n",
    "print(result)"
   ]
  },
  {
   "cell_type": "markdown",
   "id": "2799376f-f4a0-4267-8638-97498daf5ae6",
   "metadata": {},
   "source": [
    "## Pandas group by"
   ]
  },
  {
   "cell_type": "markdown",
   "id": "55698102-0f8c-41a3-805f-f4f769fa7ec2",
   "metadata": {},
   "source": [
    "## Group by a Single Column in Pandas "
   ]
  },
  {
   "cell_type": "code",
   "execution_count": 186,
   "id": "4d982b41-65d9-44cd-a4dc-6a6e4031c38b",
   "metadata": {},
   "outputs": [
    {
     "name": "stdout",
     "output_type": "stream",
     "text": [
      "Category\n",
      "Clothing        800\n",
      "Electronics    1800\n",
      "Name: Sales, dtype: int64\n"
     ]
    }
   ],
   "source": [
    "import pandas as pd\n",
    "\n",
    "# create a dictionary containing the data\n",
    "data = {'Category': ['Electronics', 'Clothing', 'Electronics', 'Clothing'],\n",
    "        'Sales': [1000, 500, 800, 300]}\n",
    "\n",
    "# create a DataFrame using the data dictionary\n",
    "df = pd.DataFrame(data)\n",
    "\n",
    "# group the DataFrame by the Category column and\n",
    "# calculate the sum of Sales for each category\n",
    "grouped = df.groupby('Category')['Sales'].sum()\n",
    "\n",
    "# print the grouped data\n",
    "print(grouped)"
   ]
  },
  {
   "cell_type": "markdown",
   "id": "4a52fdaa-8499-44c1-b673-cd117bbab750",
   "metadata": {},
   "source": [
    "## Group by a Multiple Column in Pandas"
   ]
  },
  {
   "cell_type": "code",
   "execution_count": 189,
   "id": "d6cac5eb-b49e-4b53-b430-67123109ccaa",
   "metadata": {},
   "outputs": [
    {
     "name": "stdout",
     "output_type": "stream",
     "text": [
      "             Score    \n",
      "              mean max\n",
      "Gender Grade          \n",
      "Female A      88.0  88\n",
      "       B      85.0  85\n",
      "Male   A      91.0  92\n",
      "       B      78.0  78\n"
     ]
    }
   ],
   "source": [
    "import pandas as pd\n",
    "\n",
    "# create a DataFrame with student data\n",
    "data = {\n",
    "    'Gender': ['Male', 'Female', 'Male', 'Female', 'Male'],\n",
    "    'Grade': ['A', 'B', 'A', 'A', 'B'],\n",
    "    'Score': [90, 85, 92, 88, 78]\n",
    "}\n",
    "\n",
    "df = pd.DataFrame(data)\n",
    "\n",
    "# define the aggregate functions to be applied to the Score column\n",
    "agg_functions = {\n",
    "    # calculate both mean and maximum of the Score column\n",
    "    'Score': ['mean', 'max'] \n",
    "}\n",
    "\n",
    "# group the DataFrame by Gender and Grade, then apply the aggregate functions\n",
    "grouped = df.groupby(['Gender', 'Grade']).aggregate(agg_functions)\n",
    "\n",
    "# print the resulting grouped DataFrame\n",
    "print(grouped)"
   ]
  },
  {
   "cell_type": "markdown",
   "id": "35548307-1454-4d3c-b0ff-494505966b3c",
   "metadata": {},
   "source": [
    "## Group With Categorical Data"
   ]
  },
  {
   "cell_type": "code",
   "execution_count": 192,
   "id": "90dc97e0-2571-44d6-81ee-6c923605594d",
   "metadata": {},
   "outputs": [
    {
     "name": "stdout",
     "output_type": "stream",
     "text": [
      "Category\n",
      "A    600\n",
      "B    320\n",
      "Name: Sales, dtype: int64\n"
     ]
    }
   ],
   "source": [
    "import pandas as pd\n",
    "\n",
    "# sample data\n",
    "data = {'Category': ['A', 'B', 'A', 'B', 'A', 'B'],\n",
    "        'Sales': [100, 150, 200, 50, 300, 120]}\n",
    "\n",
    "df = pd.DataFrame(data)\n",
    "\n",
    "# convert Category column to categorical type\n",
    "df['Category'] = pd.Categorical(df['Category'])\n",
    "\n",
    "# group by Category  and calculate the total sales\n",
    "grouped = df.groupby('Category',observed=True )['Sales'].sum()\n",
    "\n",
    "print(grouped)"
   ]
  },
  {
   "cell_type": "markdown",
   "id": "550cd706-64f1-4503-95d9-d2f0fbfa8138",
   "metadata": {},
   "source": [
    "## Pandas Filtering"
   ]
  },
  {
   "cell_type": "markdown",
   "id": "5766dadb-8b77-4818-ba06-7266773ccdd6",
   "metadata": {},
   "source": [
    "## Filter Data By Labels"
   ]
  },
  {
   "cell_type": "code",
   "execution_count": 196,
   "id": "b63ab370-f132-4f83-9dc5-99402a613568",
   "metadata": {},
   "outputs": [
    {
     "name": "stdout",
     "output_type": "stream",
     "text": [
      "Original DataFrame:\n",
      "      Name Department  Salary\n",
      "0    Alice         HR   50000\n",
      "1      Bob  Marketing   60000\n",
      "2  Charlie  Marketing   55000\n",
      "3    David         IT   70000\n",
      "\n",
      "\n",
      "Filtered DataFrame:\n",
      "      Name  Salary\n",
      "0    Alice   50000\n",
      "1      Bob   60000\n",
      "2  Charlie   55000\n",
      "3    David   70000\n"
     ]
    }
   ],
   "source": [
    "import pandas as pd\n",
    "\n",
    "# create a DataFrame\n",
    "data = {'Name': ['Alice', 'Bob', 'Charlie', 'David'],\n",
    "        'Department': ['HR', 'Marketing', 'Marketing', 'IT'],\n",
    "        'Salary': [50000, 60000, 55000, 70000]}\n",
    "\n",
    "df = pd.DataFrame(data)\n",
    "\n",
    "# display the original DataFrame\n",
    "print(\"Original DataFrame:\")\n",
    "print(df)\n",
    "print(\"\\n\")\n",
    "\n",
    "# use the filter() method to select columns based on a condition\n",
    "filtered_df = df.filter(items=['Name', 'Salary']) \n",
    "\n",
    "# display the filtered DataFrame\n",
    "print(\"Filtered DataFrame:\")\n",
    "print(filtered_df)"
   ]
  },
  {
   "cell_type": "markdown",
   "id": "8db1c7c5-5582-40e5-aa4f-16607b1387e6",
   "metadata": {},
   "source": [
    "## Filter Data By Values"
   ]
  },
  {
   "cell_type": "markdown",
   "id": "28d8f80c-d08b-4883-bb8d-ab3f559d83d0",
   "metadata": {},
   "source": [
    "## Logical Operators"
   ]
  },
  {
   "cell_type": "code",
   "execution_count": 200,
   "id": "d68aa98d-8b6a-45d2-aaa2-74122248e545",
   "metadata": {},
   "outputs": [
    {
     "name": "stdout",
     "output_type": "stream",
     "text": [
      "Original DataFrame:\n",
      "      Name Department  Salary\n",
      "0    Alice         HR   50000\n",
      "1      Bob  Marketing   60000\n",
      "2  Charlie  Marketing   55000\n",
      "3    David         IT   70000\n",
      "\n",
      "\n",
      "Filtered DataFrame:\n",
      "    Name Department  Salary\n",
      "1    Bob  Marketing   60000\n",
      "3  David         IT   70000\n"
     ]
    }
   ],
   "source": [
    "import pandas as pd\n",
    "\n",
    "# create a sample DataFrame\n",
    "data = {'Name': ['Alice', 'Bob', 'Charlie', 'David'],\n",
    "        'Department': ['HR', 'Marketing', 'Marketing', 'IT'],\n",
    "        'Salary': [50000, 60000, 55000, 70000]}\n",
    "\n",
    "df = pd.DataFrame(data)\n",
    "\n",
    "# display the original DataFrame\n",
    "print(\"Original DataFrame:\")\n",
    "print(df)\n",
    "print(\"\\n\")\n",
    "\n",
    "# use logical operators to filter\n",
    "filtered_df = df[df.Salary > 55000]\n",
    "\n",
    "# display the filtered DataFrame\n",
    "print(\"Filtered DataFrame:\")\n",
    "print(filtered_df)"
   ]
  },
  {
   "cell_type": "markdown",
   "id": "017d36af-5c30-4383-83bc-dc9b9f152487",
   "metadata": {},
   "source": [
    "## The isin() Method"
   ]
  },
  {
   "cell_type": "code",
   "execution_count": 203,
   "id": "b45a1900-cedd-4ad2-b8cd-8c1df05902c4",
   "metadata": {},
   "outputs": [
    {
     "name": "stdout",
     "output_type": "stream",
     "text": [
      "Original DataFrame:\n",
      "      Name Department  Salary\n",
      "0    Alice         HR   50000\n",
      "1      Bob  Marketing   60000\n",
      "2  Charlie  Marketing   55000\n",
      "3    David         IT   70000\n",
      "\n",
      "\n",
      "Filtered DataFrame:\n",
      "    Name Department  Salary\n",
      "0  Alice         HR   50000\n",
      "3  David         IT   70000\n"
     ]
    }
   ],
   "source": [
    "import pandas as pd\n",
    "\n",
    "# create a sample DataFrame\n",
    "data = {'Name': ['Alice', 'Bob', 'Charlie', 'David'],\n",
    "        'Department': ['HR', 'Marketing', 'Marketing', 'IT'],\n",
    "        'Salary': [50000, 60000, 55000, 70000]}\n",
    "\n",
    "df = pd.DataFrame(data)\n",
    "\n",
    "# display the original DataFrame\n",
    "print(\"Original DataFrame:\")\n",
    "print(df)\n",
    "print(\"\\n\")\n",
    "\n",
    "# use isin() method\n",
    "departments = ['HR', 'IT']\n",
    "filtered_df = df[df.Department.isin(departments)]\n",
    "\n",
    "# display the filtered DataFrame\n",
    "print(\"Filtered DataFrame:\")\n",
    "print(filtered_df)"
   ]
  },
  {
   "cell_type": "markdown",
   "id": "fdd4e1b6-c1fb-424c-945d-2ee413083d87",
   "metadata": {},
   "source": [
    "## The str Accessor"
   ]
  },
  {
   "cell_type": "code",
   "execution_count": 206,
   "id": "1119eba8-1d7f-4b80-ad26-d66fccf4ca12",
   "metadata": {},
   "outputs": [
    {
     "name": "stdout",
     "output_type": "stream",
     "text": [
      "Original DataFrame:\n",
      "      Name Department  Salary\n",
      "0    Alice         HR   50000\n",
      "1      Bob  Marketing   60000\n",
      "2  Charlie  Marketing   55000\n",
      "3    David         IT   70000\n",
      "\n",
      "\n",
      "Filtered DataFrame:\n",
      "      Name Department  Salary\n",
      "1      Bob  Marketing   60000\n",
      "2  Charlie  Marketing   55000\n"
     ]
    }
   ],
   "source": [
    "import pandas as pd\n",
    "\n",
    "# create a sample DataFrame\n",
    "data = {'Name': ['Alice', 'Bob', 'Charlie', 'David'],\n",
    "        'Department': ['HR', 'Marketing', 'Marketing', 'IT'],\n",
    "        'Salary': [50000, 60000, 55000, 70000]}\n",
    "\n",
    "df = pd.DataFrame(data)\n",
    "\n",
    "# display the original DataFrame\n",
    "print(\"Original DataFrame:\")\n",
    "print(df)\n",
    "print(\"\\n\")\n",
    "\n",
    "# use str accessor\n",
    "filtered_df = df[df.Department.str.contains('Market')]\n",
    "\n",
    "# display the filtered DataFrame\n",
    "print(\"Filtered DataFrame:\")\n",
    "print(filtered_df)"
   ]
  },
  {
   "cell_type": "markdown",
   "id": "50632fe9-6c09-425f-a7ba-0cd3700c968e",
   "metadata": {},
   "source": [
    "## The query() Method"
   ]
  },
  {
   "cell_type": "code",
   "execution_count": 209,
   "id": "5ddf8d42-2f0e-47db-8696-04f2bac1a47c",
   "metadata": {},
   "outputs": [
    {
     "name": "stdout",
     "output_type": "stream",
     "text": [
      "Original DataFrame:\n",
      "      Name Department  Salary\n",
      "0    Alice         HR   50000\n",
      "1      Bob  Marketing   60000\n",
      "2  Charlie  Marketing   55000\n",
      "3    David         IT   70000\n",
      "\n",
      "\n",
      "Filtered DataFrame:\n",
      "  Name Department  Salary\n",
      "1  Bob  Marketing   60000\n"
     ]
    }
   ],
   "source": [
    "import pandas as pd\n",
    "\n",
    "# create a sample DataFrame\n",
    "data = {'Name': ['Alice', 'Bob', 'Charlie', 'David'],\n",
    "        'Department': ['HR', 'Marketing', 'Marketing', 'IT'],\n",
    "        'Salary': [50000, 60000, 55000, 70000]}\n",
    "\n",
    "df = pd.DataFrame(data)\n",
    "\n",
    "# display the original DataFrame\n",
    "print(\"Original DataFrame:\")\n",
    "print(df)\n",
    "print(\"\\n\")\n",
    "\n",
    "# use query method\n",
    "filtered_df = df.query('Salary > 55000 and Department == \"Marketing\"')\n",
    "\n",
    "# display the filtered DataFrame\n",
    "print(\"Filtered DataFrame:\")\n",
    "print(filtered_df)"
   ]
  },
  {
   "cell_type": "markdown",
   "id": "1063d991-e048-497f-91a0-9c1b1607b4fd",
   "metadata": {},
   "source": [
    "## Pandas Sort"
   ]
  },
  {
   "cell_type": "markdown",
   "id": "7ba684e1-5ce7-4216-9a4d-e9e467dab048",
   "metadata": {},
   "source": [
    "## Sort DataFrame in Pandas"
   ]
  },
  {
   "cell_type": "code",
   "execution_count": 213,
   "id": "28bf2607-f4ee-4340-a1b4-64dd52f9b502",
   "metadata": {},
   "outputs": [
    {
     "name": "stdout",
     "output_type": "stream",
     "text": [
      "   Name  Age\n",
      "    Bob   22\n",
      "Charlie   25\n",
      "  Alice   28\n"
     ]
    }
   ],
   "source": [
    "import pandas as pd\n",
    "\n",
    "data = {'Name': ['Alice', 'Bob', 'Charlie'],\n",
    "        'Age': [28, 22, 25]}\n",
    "df = pd.DataFrame(data)\n",
    "\n",
    "# sort DataFrame by Age in ascending order\n",
    "sorted_df = df.sort_values(by='Age')\n",
    "\n",
    "print(sorted_df.to_string(index=False))"
   ]
  },
  {
   "cell_type": "markdown",
   "id": "0d1961a3-52aa-4c52-96a5-95b11d6aad11",
   "metadata": {},
   "source": [
    "## Sort Pandas DataFrame by Multiple Columns"
   ]
  },
  {
   "cell_type": "code",
   "execution_count": 216,
   "id": "278a4027-e666-4852-82b6-a1d87b903b63",
   "metadata": {},
   "outputs": [
    {
     "name": "stdout",
     "output_type": "stream",
     "text": [
      "Sorting by 'Age' (ascending) and then by 'Score' (ascending):\n",
      "\n",
      "   Name  Age  Score\n",
      "  David   22     80\n",
      "    Bob   22     90\n",
      "  Alice   25     85\n",
      "Charlie   30     75\n",
      "\n",
      "Sorting by 'Age' (ascending) and then by 'Score' (descending):\n",
      "\n",
      "   Name  Age  Score\n",
      "    Bob   22     90\n",
      "  David   22     80\n",
      "  Alice   25     85\n",
      "Charlie   30     75\n"
     ]
    }
   ],
   "source": [
    "import pandas as pd\n",
    "\n",
    "data = {'Name': ['Alice', 'Bob', 'Charlie', 'David'],\n",
    "        'Age': [25, 22, 30, 22],\n",
    "        'Score': [85, 90, 75, 80]}\n",
    "\n",
    "df = pd.DataFrame(data)\n",
    "\n",
    "# 1. Sort DataFrame by 'Age' and then by 'Score' (Both in ascending order)\n",
    "df1 = df.sort_values(by=['Age', 'Score'])\n",
    "\n",
    "print(\"Sorting by 'Age' (ascending) and then by 'Score' (ascending):\\n\")\n",
    "print(df1.to_string(index=False))\n",
    "\n",
    "print()\n",
    "# 2. Sort DataFrame by 'Age' in ascending order, and then by 'Score' in descending order\n",
    "df2 = df.sort_values(by=['Age', 'Score'], ascending=[True, False])\n",
    "\n",
    "print(\"Sorting by 'Age' (ascending) and then by 'Score' (descending):\\n\")\n",
    "print(df2.to_string(index=False))"
   ]
  },
  {
   "cell_type": "markdown",
   "id": "dd4f4407-cacb-45c3-ab49-121cc738dedf",
   "metadata": {},
   "source": [
    "## Sort Pandas Series"
   ]
  },
  {
   "cell_type": "code",
   "execution_count": 219,
   "id": "378ba554-c8b8-4256-af20-98b597e1441f",
   "metadata": {},
   "outputs": [
    {
     "name": "stdout",
     "output_type": "stream",
     "text": [
      "22\n",
      "25\n",
      "28\n"
     ]
    }
   ],
   "source": [
    "import pandas as pd\n",
    "\n",
    "ages = pd.Series([28, 22, 25], name='Age')\n",
    "\n",
    "# sort Series in ascending order\n",
    "sorted_ages = ages.sort_values()\n",
    "\n",
    "print(sorted_ages.to_string(index=False))"
   ]
  },
  {
   "cell_type": "markdown",
   "id": "9b667c25-0db5-4cd0-a6f1-cec2714c9e74",
   "metadata": {},
   "source": [
    "## index Sort Pandas DataFrame Using sort_index()"
   ]
  },
  {
   "cell_type": "code",
   "execution_count": 222,
   "id": "75f3065e-bdf1-4ddd-b235-1297b8891df1",
   "metadata": {},
   "outputs": [
    {
     "name": "stdout",
     "output_type": "stream",
     "text": [
      "Original DataFrame:\n",
      "      Name  Age\n",
      "2    Alice   28\n",
      "0      Bob   22\n",
      "1  Charlie   25\n",
      "\n",
      "\n",
      "Sorted DataFrame by index:\n",
      "      Name  Age\n",
      "0      Bob   22\n",
      "1  Charlie   25\n",
      "2    Alice   28\n"
     ]
    }
   ],
   "source": [
    "import pandas as pd\n",
    "\n",
    "data = {'Name': ['Alice', 'Bob', 'Charlie'],\n",
    "        'Age': [28, 22, 25]}\n",
    "# create a DataFrame with a non-sequential index\n",
    "df = pd.DataFrame(data, index=[2, 0, 1])\n",
    "\n",
    "print(\"Original DataFrame:\")\n",
    "print(df.to_string(index=True))\n",
    "print(\"\\n\")\n",
    "\n",
    "# sort DataFrame by index in ascending order\n",
    "sorted_df = df.sort_index()\n",
    "\n",
    "print(\"Sorted DataFrame by index:\")\n",
    "print(sorted_df.to_string(index=True))"
   ]
  },
  {
   "cell_type": "markdown",
   "id": "217d989e-79a8-400f-a0df-ebb5157fc038",
   "metadata": {},
   "source": [
    "## Pandas Correlation"
   ]
  },
  {
   "cell_type": "code",
   "execution_count": 225,
   "id": "3e45d319-1c8c-4316-8c49-d2d4e44fc4c4",
   "metadata": {},
   "outputs": [
    {
     "name": "stdout",
     "output_type": "stream",
     "text": [
      "                 Temperature  Ice_Cream_Sales\n",
      "Temperature         1.000000         0.923401\n",
      "Ice_Cream_Sales     0.923401         1.000000\n"
     ]
    }
   ],
   "source": [
    "import pandas as pd\n",
    "\n",
    "# create dataframe\n",
    "data = {\n",
    "    \"Temperature\": [22, 25, 32, 28, 30],\n",
    "    \"Ice_Cream_Sales\": [105, 120, 135, 130, 125]\n",
    "}\n",
    "\n",
    "df = pd.DataFrame(data)\n",
    "\n",
    "# calculate correlation matrix\n",
    "print(df.corr())"
   ]
  },
  {
   "cell_type": "markdown",
   "id": "875d227f-e349-4391-9f2e-509e93dbb50d",
   "metadata": {},
   "source": [
    "## Positive and Negative Correlation "
   ]
  },
  {
   "cell_type": "markdown",
   "id": "ddfb13df-3dda-4fcd-b552-e4ee579d4f17",
   "metadata": {},
   "source": [
    "## Correlation Between Two Columns"
   ]
  },
  {
   "cell_type": "code",
   "execution_count": 229,
   "id": "95b18048-9735-4aea-a729-54d7b16d0eba",
   "metadata": {},
   "outputs": [
    {
     "name": "stdout",
     "output_type": "stream",
     "text": [
      "0.9234007664064655\n"
     ]
    }
   ],
   "source": [
    "import pandas as pd\n",
    "\n",
    "# create dataframe\n",
    "data = {\n",
    "    \"Temperature\": [22, 25, 32, 28, 30],\n",
    "    \"Ice_Cream_Sales\": [105, 120, 135, 130, 125]\n",
    "}\n",
    "\n",
    "df = pd.DataFrame(data)\n",
    "\n",
    "# calculate correlation coefficient\n",
    "correlation = df['Temperature'].corr(df[\"Ice_Cream_Sales\"])\n",
    "\n",
    "print(correlation)"
   ]
  },
  {
   "cell_type": "markdown",
   "id": "0f57f86e-2851-40ef-9cc1-242eaa6d9d6a",
   "metadata": {},
   "source": [
    "## Missing Values"
   ]
  },
  {
   "cell_type": "code",
   "execution_count": 232,
   "id": "e5f6da14-4b5a-4baf-a034-7847e3b80e7f",
   "metadata": {},
   "outputs": [
    {
     "name": "stdout",
     "output_type": "stream",
     "text": [
      "With NaN values\n",
      "   Temperature  Coffee_Sales\n",
      "0           22         158.0\n",
      "1           25         145.0\n",
      "2           32           NaN\n",
      "3           28           NaN\n",
      "4           30         140.0\n",
      "correlation = -0.923177938058926\n",
      "\n",
      "Without NaN values\n",
      "   Temperature  Coffee_Sales\n",
      "0           22         158.0\n",
      "1           25         145.0\n",
      "4           30         140.0\n",
      "correlation = -0.923177938058926\n",
      "\n"
     ]
    }
   ],
   "source": [
    "import pandas as pd\n",
    "import numpy as np\n",
    "\n",
    "# create a dataframe\n",
    "data = {\n",
    "    \"Temperature\": [22, 25, 32, 28, 30],\n",
    "    \"Coffee_Sales\": [158, 145, np.nan, np.nan, 140]\n",
    "}\n",
    "\n",
    "df = pd.DataFrame(data)\n",
    "\n",
    "# calculate correlation between Temperature and Ice_Cream_sales\n",
    "correlation1 = df[\"Temperature\"].corr(df[\"Coffee_Sales\"])\n",
    "\n",
    "print(\"With NaN values\")\n",
    "print(df)\n",
    "print(f\"correlation = {correlation1}\")\n",
    "print()\n",
    "\n",
    "# remove missing values\n",
    "df.dropna(inplace=True)\n",
    "\n",
    "# calculate correlation between Temperature and Ice_Cream_sales\n",
    "correlation2 = df[\"Temperature\"].corr(df[\"Coffee_Sales\"])\n",
    "\n",
    "print(\"Without NaN values\")\n",
    "print(df)\n",
    "print(f\"correlation = {correlation2}\")\n",
    "print()"
   ]
  },
  {
   "cell_type": "markdown",
   "id": "46b40dfb-98c5-4b5b-a41d-2f8e986caf0e",
   "metadata": {},
   "source": [
    "Notice that the correlation value is the same before and after removing the NaN values. This means that the NaN values are completely ignored by corr()."
   ]
  },
  {
   "cell_type": "markdown",
   "id": "76231eb7-20a7-48db-9627-238d18be4e28",
   "metadata": {},
   "source": [
    "# Pandas Plot"
   ]
  },
  {
   "cell_type": "markdown",
   "id": "16406f03-134e-44a5-9ff0-c8cc5406b719",
   "metadata": {},
   "source": [
    "Pandas provides a convenient way to visualize data directly from DataFrames and Series using the plot() method.\n",
    "\n",
    "This method uses the Matplotlib library behind the scenes to create various types of plots."
   ]
  },
  {
   "cell_type": "markdown",
   "id": "717b6613-f36f-490f-a2a6-752b242eb125",
   "metadata": {},
   "source": [
    "## Line Plot For Data Visualization"
   ]
  },
  {
   "cell_type": "markdown",
   "id": "98b0980a-a372-4a65-950c-ab44759adbac",
   "metadata": {},
   "source": [
    "In Pandas, line plot displays data as a series of points connected by a line. We use the plot() function to line plot the data, which takes two arguments; x and y coordinate."
   ]
  },
  {
   "cell_type": "code",
   "execution_count": 243,
   "id": "82f9c977-0d87-4e39-b87e-2db8d370faaf",
   "metadata": {},
   "outputs": [
    {
     "data": {
      "image/png": "[encoded data removed]",
      "text/plain": [
       "<Figure size 640x480 with 1 Axes>"
      ]
     },
     "metadata": {},
     "output_type": "display_data"
    }
   ],
   "source": [
    "import pandas as pd\n",
    "import matplotlib.pyplot as plt\n",
    "\n",
    "car = [\"Caterham\", \"Tesla\", \"Audi\", \"BMW\", \"Ford\", \"Jeep\"]\n",
    "weight = [0.48, 1.7, 2, 2, 2.3, 3]\n",
    "\n",
    "# create a DataFrame\n",
    "data = {'Car': car, 'Weight': weight}\n",
    "df = pd.DataFrame(data)\n",
    "\n",
    "# plot using Pandas\n",
    "df.plot(x='Car', y='Weight', kind='line', marker='o')\n",
    "plt.xlabel('Car')\n",
    "plt.ylabel('Weight')\n",
    "plt.title('Car Weights')\n",
    "plt.show()\n",
    "\n",
    "#pip install matplotlib for No module named 'matplotlib'"
   ]
  },
  {
   "cell_type": "markdown",
   "id": "8ba4e133-fdf5-4292-879c-cbc83d7d6922",
   "metadata": {},
   "source": [
    "# Scatter Plots For Data Visualization"
   ]
  },
  {
   "cell_type": "markdown",
   "id": "4f8c0d76-ecfa-4c17-9216-083ff7bc067a",
   "metadata": {},
   "source": [
    "Scatter Plot displays data as a collection of points. We use the plot() function with kind = 'scatter' to scatter plot the data points."
   ]
  },
  {
   "cell_type": "code",
   "execution_count": 247,
   "id": "485261dc-4811-4e66-8f1d-5b7777e9233e",
   "metadata": {},
   "outputs": [
    {
     "data": {
      "image/png": "[encoded data removed]",
      "text/plain": [
       "<Figure size 640x480 with 1 Axes>"
      ]
     },
     "metadata": {},
     "output_type": "display_data"
    }
   ],
   "source": [
    "import pandas as pd\n",
    "import matplotlib.pyplot as plt\n",
    "\n",
    "car = [\"Caterham\", \"Tesla\", \"Audi\", \"BMW\", \"Ford\", \"Jeep\"]\n",
    "weight = [0.48, 1.7, 2, 2, 2.3, 3]\n",
    "\n",
    "# create a DataFrame\n",
    "data = {'Car': car, 'Weight': weight}\n",
    "df = pd.DataFrame(data)\n",
    "\n",
    "# scatter plot using Pandas\n",
    "df.plot(x='Car', y='Weight', kind='scatter', marker='o', color='blue')\n",
    "plt.xlabel('Car')\n",
    "plt.ylabel('Weight')\n",
    "plt.title('Car Weights (Scatter Plot)')\n",
    "plt.grid(True)\n",
    "plt.show()"
   ]
  },
  {
   "cell_type": "markdown",
   "id": "7ea9fffb-1f8c-454a-8712-922a6f2513d6",
   "metadata": {},
   "source": [
    "# Bar Graphs For Data Visualization"
   ]
  },
  {
   "cell_type": "markdown",
   "id": "73672b93-cdc5-46cd-b54f-cea0bb5d33b5",
   "metadata": {},
   "source": [
    "Bar Graphs represent data using rectangular boxes. In Pandas, we pass kind = 'scatter' inside plot() to plot data in a bar graph."
   ]
  },
  {
   "cell_type": "code",
   "execution_count": 255,
   "id": "38db6d7d-a426-4c95-801c-ab8247afb1f5",
   "metadata": {},
   "outputs": [
    {
     "data": {
      "image/png": "[encoded data removed]",
      "text/plain": [
       "<Figure size 640x480 with 1 Axes>"
      ]
     },
     "metadata": {},
     "output_type": "display_data"
    }
   ],
   "source": [
    "import pandas as pd\n",
    "import matplotlib.pyplot as plt\n",
    "\n",
    "car = [\"Caterham\", \"Tesla\", \"Audi\", \"BMW\", \"Ford\", \"Jeep\"]\n",
    "weight = [0.48, 1.7, 2, 2, 2.3, 3]\n",
    "\n",
    "# create a DataFrame\n",
    "data = {'Car': car, 'Weight': weight}\n",
    "df = pd.DataFrame(data)\n",
    "\n",
    "# bar graph using Pandas\n",
    "df.plot(x='Car', y='Weight', kind='bar', color='RED')\n",
    "plt.xlabel('Car')\n",
    "plt.ylabel('Weight')\n",
    "plt.title('Car Weights (Bar Graph)')\n",
    "plt.tight_layout()\n",
    "plt.show()"
   ]
  },
  {
   "cell_type": "markdown",
   "id": "de932fc5-5e26-4e55-816c-80fed568d636",
   "metadata": {},
   "source": [
    "# Histograms For Data Visualization"
   ]
  },
  {
   "cell_type": "markdown",
   "id": "779bef8c-9347-4292-a248-500d726561d0",
   "metadata": {},
   "source": [
    "In Pandas, we use kind='hist' inside plot() to create a histogram."
   ]
  },
  {
   "cell_type": "code",
   "execution_count": 261,
   "id": "f5a67d35-33bb-4f02-9911-6cdc1d2d3f70",
   "metadata": {},
   "outputs": [
    {
     "data": {
      "image/png": "[encoded data removed]",
      "text/plain": [
       "<Figure size 640x480 with 1 Axes>"
      ]
     },
     "metadata": {},
     "output_type": "display_data"
    }
   ],
   "source": [
    "import pandas as pd\n",
    "import matplotlib.pyplot as plt\n",
    "\n",
    "weight = [0.48, 1.7, 2, 3]\n",
    "\n",
    "# create a DataFrame\n",
    "data = {'Weight': weight}\n",
    "df = pd.DataFrame(data)\n",
    "\n",
    "# histogram using Pandas\n",
    "df['Weight'].plot(kind='hist', bins=10, edgecolor='black', color='green')\n",
    "plt.show()"
   ]
  },
  {
   "cell_type": "markdown",
   "id": "8d83bdf2-d8a2-44e5-832c-77927e526cd9",
   "metadata": {},
   "source": [
    "# Pandas Histogram"
   ]
  },
  {
   "cell_type": "markdown",
   "id": "a6fbf3e3-a12f-44f9-b246-f87240a0d96b",
   "metadata": {},
   "source": [
    "Pandas histograms is a graphical representation of the distribution of numerical data. In Pandas, using the hist() function, we can create and plot histograms."
   ]
  },
  {
   "cell_type": "markdown",
   "id": "d866e34e-3e31-4080-a299-57fea94f5be7",
   "metadata": {},
   "source": [
    "## Pandas Histogram"
   ]
  },
  {
   "cell_type": "markdown",
   "id": "f1a5e852-b316-4a7d-87fb-95ec96ba896c",
   "metadata": {},
   "source": [
    "Pandas has a built-in function hist() that takes an array of data as a parameter.\n",
    "\n",
    "In histogram, a bin is a range of values that represents a group of data. bin is an optional parameter."
   ]
  },
  {
   "cell_type": "code",
   "execution_count": 267,
   "id": "29c4de2a-a2e1-4617-82f3-f5d38533647c",
   "metadata": {},
   "outputs": [
    {
     "data": {
      "image/png": "[encoded data removed]",
      "text/plain": [
       "<Figure size 640x480 with 1 Axes>"
      ]
     },
     "metadata": {},
     "output_type": "display_data"
    }
   ],
   "source": [
    "import pandas as pd\n",
    "import matplotlib.pyplot as plt\n",
    "\n",
    "# create a DataFrame\n",
    "data = {'values': [18, 21, 22, 25, 28, 30, 32, 34, 35, 36, 38, 40, 42, 45, 50, 55, 60, 65, 70]}\n",
    "df = pd.DataFrame(data)\n",
    "\n",
    "# plot a histogram\n",
    "plt.hist(df['values'], bins=10)\n",
    "plt.show()"
   ]
  },
  {
   "cell_type": "markdown",
   "id": "04083ce7-db96-436e-abf5-bb5d51ca4a11",
   "metadata": {},
   "source": [
    "# Pandas Customized Histogram"
   ]
  },
  {
   "cell_type": "markdown",
   "id": "799e5c30-bd3a-41ec-b393-193b08169210",
   "metadata": {},
   "source": [
    "A customized histogram is a type of histogram with specific visual characteristics that effectively communicate information about the data being displayed."
   ]
  },
  {
   "cell_type": "code",
   "execution_count": 274,
   "id": "17d6c45d-2ff1-4924-b264-a942fe53f386",
   "metadata": {},
   "outputs": [
    {
     "data": {
      "image/png": "[encoded data removed]",
      "text/plain": [
       "<Figure size 640x480 with 1 Axes>"
      ]
     },
     "metadata": {},
     "output_type": "display_data"
    }
   ],
   "source": [
    "import pandas as pd\r\n",
    "import matplotlib.pyplot as plt\r\n",
    "\r\n",
    "# create a DataFrame with more data\r\n",
    "data = {'values': [23, 45, 30, 50, 67, 35, 47, 62, 25, 58, 42, 36, 53, 68, 32]}\r\n",
    "df = pd.DataFrame(data)\r\n",
    "\r\n",
    "# plot a customized histogram\r\n",
    "plt.hist(df['values'], bins=7, edgecolor='black', color='green', alpha=0.7)\r\n",
    "plt.title('Customized Histogram')\r\n",
    "plt.xlabel('Value')\r\n",
    "plt.ylabel('Frequency')\r\n",
    "plt.grid(True, linestyle='--', alpha=0.7)\r\n",
    "plt.show()"
   ]
  },
  {
   "cell_type": "markdown",
   "id": "6e14ddf1-fede-4c47-bc6c-3fe764a16b6f",
   "metadata": {},
   "source": [
    "## Multiple Histograms in Pandas"
   ]
  },
  {
   "cell_type": "markdown",
   "id": "d6f61682-1acf-499e-af07-037f1ebb8cb4",
   "metadata": {},
   "source": [
    "In Pandas, we can create multiple histograms to compare different datasets."
   ]
  },
  {
   "cell_type": "code",
   "execution_count": 281,
   "id": "698ccaf9-367e-43fe-a5d1-e9d3935fdd78",
   "metadata": {},
   "outputs": [
    {
     "data": {
      "image/png": "[encoded data removed]",
      "text/plain": [
       "<Figure size 640x480 with 1 Axes>"
      ]
     },
     "metadata": {},
     "output_type": "display_data"
    }
   ],
   "source": [
    "import pandas as pd\n",
    "import matplotlib.pyplot as plt\n",
    "\n",
    "# Create two DataFrames with different datasets\n",
    "data1 = {'values': [12, 15, 18, 22, 25, 27, 30, 33, 37, 40]}\n",
    "data2 = {'values': [8, 10, 14, 20, 24, 28, 32, 36, 42, 45]}\n",
    "df1 = pd.DataFrame(data1)\n",
    "df2 = pd.DataFrame(data2)\n",
    "\n",
    "# Plot two histograms side by side\n",
    "plt.hist(df1['values'], bins=6, edgecolor='black', alpha=0.7, label='Dataset 1')\n",
    "plt.hist(df2['values'], bins=6, edgecolor='black', alpha=0.7, label='Dataset 2', color='orange')\n",
    "plt.title('Histogram Comparison')\n",
    "plt.xlabel('Value')\n",
    "plt.ylabel('Frequency')\n",
    "plt.legend()\n",
    "plt.show()"
   ]
  },
  {
   "cell_type": "code",
   "execution_count": null,
   "id": "c8a43ecd-6064-42cf-b516-7b50f62c76fb",
   "metadata": {},
   "outputs": [],
   "source": []
  }
 ],
 "metadata": {
  "kernelspec": {
   "display_name": "Python 3 (ipykernel)",
   "language": "python",
   "name": "python3"
  },
  "language_info": {
   "codemirror_mode": {
    "name": "ipython",
    "version": 3
   },
   "file_extension": ".py",
   "mimetype": "text/x-python",
   "name": "python",
   "nbconvert_exporter": "python",
   "pygments_lexer": "ipython3",
   "version": "3.11.7"
  }
 },
 "nbformat": 4,
 "nbformat_minor": 5
}
